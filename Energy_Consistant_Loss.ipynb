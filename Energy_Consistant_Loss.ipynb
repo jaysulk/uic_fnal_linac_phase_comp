{
  "nbformat": 4,
  "nbformat_minor": 0,
  "metadata": {
    "colab": {
      "provenance": [],
      "include_colab_link": true
    },
    "kernelspec": {
      "name": "python3",
      "display_name": "Python 3"
    },
    "language_info": {
      "name": "python"
    }
  },
  "cells": [
    {
      "cell_type": "markdown",
      "metadata": {
        "id": "view-in-github",
        "colab_type": "text"
      },
      "source": [
        "<a href=\"https://colab.research.google.com/github/jaysulk/uic_fnal_linac_phase_comp/blob/Energy_Consistant_Loss_Fn/Energy_Consistant_Loss.ipynb\" target=\"_parent\"><img src=\"https://colab.research.google.com/assets/colab-badge.svg\" alt=\"Open In Colab\"/></a>"
      ]
    },
    {
      "cell_type": "code",
      "execution_count": null,
      "metadata": {
        "colab": {
          "base_uri": "https://localhost:8080/"
        },
        "id": "3j1dh0ZBdPV7",
        "outputId": "2dd6b8ff-dfb0-4d38-d7ea-0447da3b30d4"
      },
      "outputs": [
        {
          "output_type": "stream",
          "name": "stdout",
          "text": [
            "Drive already mounted at /content/drive; to attempt to forcibly remount, call drive.mount(\"/content/drive\", force_remount=True).\n"
          ]
        }
      ],
      "source": [
        "from google.colab import drive\n",
        "drive.mount('/content/drive')"
      ]
    },
    {
      "cell_type": "code",
      "source": [
        "#Please update your drive path to \"Phase Compensation\" folder\n",
        "path = \"/content/drive/MyDrive/PhaseCompensation/\"\n",
        "ppath = \"/content/drive/MyDrive/\"\n",
        "#Please make sure all these files are present in your drive\n",
        "# 20240208_163623_nominal.csv\n",
        "# 20241216_084110_nominal_oneTS.csv\n",
        "# 20241219_104803_nominal_oneTS.csv\n",
        "#sensor_positions.json"
      ],
      "metadata": {
        "id": "W51Vf3H9eHK_"
      },
      "execution_count": null,
      "outputs": []
    },
    {
      "cell_type": "code",
      "source": [
        "#Please update the test file path\n",
        "path_test = \"/content/drive/MyDrive/PhaseCompensation/20241223_161613_nominal_oneTS.csv\""
      ],
      "metadata": {
        "id": "m5e-K3JOlQO_"
      },
      "execution_count": null,
      "outputs": []
    },
    {
      "cell_type": "code",
      "source": [
        "import json\n",
        "import pandas as pd\n",
        "import numpy as np\n",
        "import matplotlib.pyplot as plt\n",
        "import itertools\n",
        "\n",
        "import scipy.fft as spft\n",
        "from sklearn.linear_model import LinearRegression\n",
        "from sklearn.metrics import r2_score\n",
        "\n",
        "import torch\n",
        "import torch.fft as fft\n",
        "\n",
        "import torch\n",
        "import torch.nn as nn\n",
        "from sklearn.model_selection import train_test_split\n",
        "from sklearn.metrics import classification_report, accuracy_score\n",
        "import torch.nn.functional as F"
      ],
      "metadata": {
        "id": "FI27L0hid9n8"
      },
      "execution_count": null,
      "outputs": []
    },
    {
      "cell_type": "code",
      "source": [
        "def fetch_data(file,datacols,cuts,setdevs):\n",
        "\n",
        "    dataset = pd.read_csv(file)\n",
        "    dataset.columns = dataset.columns.str.replace(\"[()]\", \"_\",regex=True)\n",
        "\n",
        "    cols = list(dataset.filter(regex='|'.join(datacols)))\n",
        "\n",
        "    # for set points, keep _S_ and drop _R_ if available\n",
        "    # 26/02/2024: inverse the logic, keep the read and remove the set\n",
        "    setdevs = ['L:%s_'%d for d in setdevs]\n",
        "    cols = [col for col in cols if col not in setdevs]\n",
        "\n",
        "    subset = dataset.loc[:,cols]\n",
        "    subset.columns = subset.columns.str.replace(\"_R_|_S_\", \"\",regex=True)\n",
        "    subset.drop(list(subset.filter(regex=r'\\.1|Time|step|iter|stamp')),axis=1, inplace=True)\n",
        "\n",
        "    # apply data quality cuts\n",
        "    if len(cuts)>0:\n",
        "        subset.query(cuts,inplace=True)\n",
        "\n",
        "    subset.dropna(inplace=True)\n",
        "\n",
        "    return subset\n"
      ],
      "metadata": {
        "id": "I3plwP04dlcQ"
      },
      "execution_count": null,
      "outputs": []
    },
    {
      "cell_type": "code",
      "source": [
        "def load_BPMphase_data_multi(cavs,files,dropdevs,scan=True):\n",
        "    dfs = []\n",
        "    for i, file in enumerate(files):\n",
        "        if scan:\n",
        "            # 26/02/2024: inverse the logic, keep the read and remove the set\n",
        "            df = fetch_data(file,cavs+['BF','BPM','SQ'],'',['%s_S'%cav[2:] for cav in cavs])\n",
        "        else:\n",
        "            df = fetch_data(file,cavs+['BF','BPM','SQ'],'',[])\n",
        "        try:\n",
        "            df = df.drop(list(df.filter(regex=r'20|B:|SS|SQT')), axis=1)\n",
        "            df = df.drop(list(df.filter(regex=r'|'.join(dropdevs))),axis=1)\n",
        "        except:\n",
        "            continue\n",
        "        #deal with phase jumps at +-180\n",
        "        for col in df.columns:\n",
        "            if abs(df[col].min()-df[col].max())>350:\n",
        "                #df[col] = np.unwrap(df[col],period=360)\n",
        "                if np.sign(df[col]).mean() <0:\n",
        "                    df[col] = df[col].apply(lambda x : x if x < 0 else x -360)\n",
        "                else:\n",
        "                   df[col] = df[col].apply(lambda x : x if x > 0 else x +360)\n",
        "\n",
        "\n",
        "        dfs.append(df)\n",
        "    #print(dfs)\n",
        "    return dfs\n"
      ],
      "metadata": {
        "id": "dRtcU5mddlsf"
      },
      "execution_count": null,
      "outputs": []
    },
    {
      "cell_type": "code",
      "source": [
        "### Load BPM location data\n",
        "json_file = open(f'{ppath}sensor_positions.json')\n",
        "BPM_positions = json.load(json_file)\n",
        "\n",
        "devices_to_drop = [ 'L:BPM2OF','L:BPM3IF','L:BPM3OF','L:BPM5IF',\"L:BPM4IF\",\"L:BPM5OF\",\"L:D44BF\"] #remove DTL part & D44 noisy\n",
        "\n",
        "for device in devices_to_drop:\n",
        "    try:\n",
        "        del BPM_positions[device]\n",
        "    except:\n",
        "        continue\n",
        "\n",
        "BPM_list = list(BPM_positions.keys())\n",
        "dist_data = list(BPM_positions.values())\n",
        "print(BPM_list)\n",
        "\n",
        "cavnames = ['Buncher','Tank 1','Tank 2','Tank 3','Tank 4','Tank 5','RFQ']\n",
        "# Phase setting - this is the control knob\n",
        "cavs = ['L:RFBPAH', 'L:V1QSET', 'L:V2QSET', 'L:V3QSET', 'L:V4QSET', 'L:V5QSET','L:RFQPAH']\n",
        "# Phase readback - data from physical phase pickups. Discrepances between the two are sign of mis- or under- regulation\n",
        "cavs_read = ['L:V%iSQ'%n for n in range(1,6)]\n",
        "# Combined list\n",
        "cavs_both = cavs + cavs_read\n",
        "basis_choice =(0,1,2,3,4,5,6)"
      ],
      "metadata": {
        "colab": {
          "base_uri": "https://localhost:8080/"
        },
        "id": "-meCBaICdlv-",
        "outputId": "8d2e7ea7-7116-40d5-fd2c-d913b358371f"
      },
      "execution_count": null,
      "outputs": [
        {
          "output_type": "stream",
          "name": "stdout",
          "text": [
            "['L:D02BF', 'L:D03BF', 'L:D11BF', 'L:D12BF', 'L:D13BF', 'L:D21BF', 'L:D22BF', 'L:D23BF', 'L:D31BF', 'L:D32BF', 'L:D33BF', 'L:D34BF', 'L:D41BF', 'L:D42BF', 'L:D43BF', 'L:D51BF', 'L:D52BF', 'L:D53BF', 'L:D54BF', 'L:D61BF', 'L:D62BF', 'L:D63BF', 'L:D64BF', 'L:D71BF', 'L:D72BF', 'L:D73BF', 'L:D74BF']\n"
          ]
        }
      ]
    },
    {
      "cell_type": "code",
      "source": [],
      "metadata": {
        "id": "nDykDJ3jnAxA"
      },
      "execution_count": null,
      "outputs": []
    },
    {
      "cell_type": "code",
      "source": [
        "dates = [\"20240208_\",\"20241216_\",\"20241219_\"]\n",
        "times = [\"163623_nominal\",\"084110_nominal_oneTS\",\n",
        "         \"104803_nominal_oneTS\"]\n",
        "files = ['%s%s%s.csv'%(path,d,t) for (d,t) in zip(dates,times)]\n",
        "lbls = ['Feb 08 nominal','Dec 16 nominal','Dec 19 nominal']\n",
        "dfs = load_BPMphase_data_multi(cavs_both,files,devices_to_drop,scan=False)\n",
        "ip=[df[BPM_list].head(100) for df in dfs]\n",
        "ipp=[i.dropna() for i in ip]\n",
        "op = [df[cavs].mean() for df in dfs]\n",
        "opp=[]\n",
        "for i in range(len(ipp)):\n",
        "  for j in range(len(ipp[i])):\n",
        "    opp.append(op[i])"
      ],
      "metadata": {
        "id": "bXcJpBSjdWUr"
      },
      "execution_count": null,
      "outputs": []
    },
    {
      "cell_type": "code",
      "source": [
        "def plot_fit_traj(cavs,target_trajectory, basis, response_matrix,targetlbl=None):\n",
        "    if targetlbl:\n",
        "        target = str(targetlbl)\n",
        "    else:\n",
        "        target='Target trajectory'\n",
        "    idx = 7\n",
        "    if len(basis)!=7:\n",
        "        raise ValueError('The basis length must be 7')\n",
        "    tensor_b_vecs = [torch.stack([torch.tensor(row.values, dtype=torch.float32) for _, row in response_matrix[i].iterrows()]) for i in range(3)]\n",
        "    target_tensor = torch.stack([torch.tensor(df.values.squeeze(), dtype=torch.float32) for df in target_trajectory])\n",
        "    coefs = linear_fit_to_basis(tensor_b_vecs,target_tensor)\n",
        "    return None"
      ],
      "metadata": {
        "id": "UG35KOgYdmZo"
      },
      "execution_count": null,
      "outputs": []
    },
    {
      "cell_type": "code",
      "source": [
        "import torch\n",
        "import torch.nn as nn\n",
        "import torch.optim as optim\n",
        "from torch.utils.data import DataLoader, TensorDataset\n",
        "import matplotlib.pyplot as plt\n",
        "from sklearn.model_selection import train_test_split\n",
        "import pandas as pd\n",
        "import numpy as np\n",
        "\n",
        "# Assuming a model definition similar to this:\n",
        "class DeepNN(nn.Module):\n",
        "    def __init__(self, input_dim, output_dim):\n",
        "        super(DeepNN, self).__init__()\n",
        "        self.fc1 = nn.Linear(input_dim, 128)\n",
        "        self.fc2 = nn.Linear(128, 512)\n",
        "        self.fc3 = nn.Linear(512, output_dim)\n",
        "\n",
        "    def forward(self, x):\n",
        "        x = torch.relu(self.fc1(x))\n",
        "        x = torch.relu(self.fc2(x))\n",
        "        return self.fc3(x)\n",
        "\n",
        "def temporal_smoothness_loss(preds, sequence_indices, strength=1e-2):\n",
        "    \"\"\"\n",
        "    Compute temporal smoothness loss for predictions.\n",
        "    :param preds: Predictions (torch.Tensor) [N x D]\n",
        "    :param sequence_indices: Sequence indices indicating the sequence each data point belongs to\n",
        "    :param strength: Strength of the temporal smoothness loss\n",
        "    :return: Computed temporal smoothness loss\n",
        "    \"\"\"\n",
        "    seq_ids = sequence_indices.unique()\n",
        "    total_loss = 0.0\n",
        "    for seq_id in seq_ids:\n",
        "        seq_mask = sequence_indices == seq_id\n",
        "        preds_seq = preds[seq_mask]\n",
        "        if preds_seq.size(0) > 1:\n",
        "            deltas = preds_seq[1:] - preds_seq[:-1]\n",
        "            total_loss += deltas.pow(2).mean()\n",
        "    return strength * total_loss\n",
        "\n",
        "def compute_particle_density_loss(dfs):\n",
        "    \"\"\"\n",
        "    Compute the particle density loss based on energy differences.\n",
        "\n",
        "    This function calculates the loss by determining the absolute differences in energy measurements\n",
        "    across a list of DataFrames that contain BPM (Beam Position Monitor) data. The specific\n",
        "    columns considered are related to particle densities.\n",
        "\n",
        "    Parameters:\n",
        "    dfs (List[pd.DataFrame]): List of DataFrames containing BPM data.\n",
        "\n",
        "    Returns:\n",
        "    torch.Tensor: The computed particle density loss.\n",
        "    \"\"\"\n",
        "    # Columns related to particle densities\n",
        "    particle_density_cols = ['L:V1SQ', 'L:V2SQ', 'L:V3SQ', 'L:V4SQ', 'L:V5SQ']\n",
        "\n",
        "    all_energy_diffs = []\n",
        "    for df in dfs:\n",
        "        for col in particle_density_cols:\n",
        "            if col in df.columns:\n",
        "                # Compute the absolute differences in the column values\n",
        "                diff = df[col].diff().dropna().abs()\n",
        "                # Append the tensor of differences from this column to the list\n",
        "                all_energy_diffs.append(torch.tensor(diff.values, dtype=torch.float32))\n",
        "\n",
        "    # Concatenate all energy differences into a single tensor\n",
        "    if all_energy_diffs:\n",
        "        concatenated_diffs = torch.cat(all_energy_diffs, dim=0)\n",
        "        particle_density_loss = concatenated_diffs.mean()\n",
        "        return particle_density_loss\n",
        "    else:\n",
        "        return torch.tensor(0.0)\n",
        "\n",
        "def energy_consistent_loss(preds, labels, bpm_dfs, strength=1e-2):\n",
        "    \"\"\"\n",
        "    Compute the energy-consistent loss using particle density loss from BPM data.\n",
        "\n",
        "    This function calculates the particle density loss from the BPM data and adjusts\n",
        "    its impact on the overall loss function using a strength parameter.\n",
        "\n",
        "    Parameters:\n",
        "    preds (torch.Tensor): Predictions from the model.\n",
        "    labels (torch.Tensor): Corresponding true class labels for the predictions.\n",
        "    bpm_dfs (List[pd.DataFrame]): List of DataFrames containing BPM data.\n",
        "    strength (float, optional): The weight for the energy consistency term. Defaults to 1e-2.\n",
        "\n",
        "    Returns:\n",
        "    torch.Tensor: The calculated total loss.\n",
        "    \"\"\"\n",
        "    # Compute particle density loss\n",
        "    particle_density_loss = compute_particle_density_loss(bpm_dfs)\n",
        "\n",
        "    # Scale the particle density loss by the strength parameter\n",
        "    total_loss = strength * particle_density_loss\n",
        "    return total_loss\n",
        "\n",
        "def save_checkpoint(model, optimizer, epoch, loss, path):\n",
        "    \"\"\"\n",
        "    Saves the model and optimizer state to a file.\n",
        "    \"\"\"\n",
        "    torch.save({\n",
        "        'epoch': epoch,\n",
        "        'model_state_dict': model.state_dict(),\n",
        "        'optimizer_state_dict': optimizer.state_dict(),\n",
        "        'loss': loss,\n",
        "    }, path)\n",
        "\n",
        "def linear_fit_to_basis(X_tensor_list, Y_tensor, bpm_dfs, sequence_length=20, test_size=0.2, batch_size=64, epochs=1000, lr=5e-4, print_every=100):\n",
        "    \"\"\"\n",
        "    X_tensor_list: list of Tensors to be concatenated along dim=0, then viewed to shape (N, 27)\n",
        "    Y_tensor: Tensor of shape (N, 7)\n",
        "    bpm_dfs: List of DataFrames for BPM data used for energy-consistent loss\n",
        "    \"\"\"\n",
        "    # 1) build X, Y\n",
        "    X = torch.cat(X_tensor_list, dim=0).view(-1, 27)\n",
        "    Y = Y_tensor.view(Y_tensor.shape[0], -1)\n",
        "\n",
        "    # 2) make class labels for stratification/classification\n",
        "    unique_classes, class_labels = torch.unique(Y, dim=0, return_inverse=True)\n",
        "\n",
        "    # 3) split properly: stratify=class_labels (1-D) not Y (2-D)\n",
        "    X_train, X_test, Y_train, Y_test, labels_train, labels_test = train_test_split(\n",
        "        X, Y, class_labels, test_size=test_size, shuffle=True, stratify=class_labels\n",
        "    )\n",
        "\n",
        "    # 4) wrap in DataLoaders\n",
        "    train_ds = TensorDataset(X_train, Y_train, labels_train)\n",
        "    test_ds  = TensorDataset(X_test, Y_test, labels_test)\n",
        "    train_loader = DataLoader(train_ds, batch_size=batch_size, shuffle=True)\n",
        "    test_loader  = DataLoader(test_ds, batch_size=batch_size, shuffle=False)\n",
        "\n",
        "    # 5) model, optimizer, losses\n",
        "    model = DeepNN(input_dim=27, output_dim=7)\n",
        "    optimizer = optim.Adam(model.parameters(), lr=lr)\n",
        "    regression_loss_fn = nn.MSELoss()\n",
        "    classification_loss_fn = nn.CrossEntropyLoss()\n",
        "\n",
        "    train_losses = []\n",
        "    test_losses  = []\n",
        "\n",
        "    for epoch in range(epochs):\n",
        "        # ——— TRAIN ———\n",
        "        model.train()\n",
        "        running_train_loss = 0.0\n",
        "        for x_batch, y_batch, lbl_batch in train_loader:\n",
        "            optimizer.zero_grad()\n",
        "            out = model(x_batch)\n",
        "\n",
        "            # regression term\n",
        "            loss_reg = regression_loss_fn(out, y_batch)\n",
        "            # classification term\n",
        "            dists = torch.cdist(out, unique_classes)\n",
        "            logits = -dists\n",
        "            loss_class = classification_loss_fn(logits, lbl_batch)\n",
        "            # energy and temporal\n",
        "            loss_energy = energy_consistent_loss(out, lbl_batch, bpm_dfs)\n",
        "            # Ensure sequence_length is applied correctly to generate seq_ids for the current batch\n",
        "            # Calculate actual sequence length for the current batch to prevent index out of bounds errors\n",
        "            current_batch_size = len(lbl_batch)\n",
        "            batch_sequence_length = min(sequence_length, current_batch_size)\n",
        "            seq_ids = (torch.arange(current_batch_size) // batch_sequence_length).to(out.device)\n",
        "            loss_temp = temporal_smoothness_loss(out, seq_ids)\n",
        "\n",
        "\n",
        "            loss = loss_reg + loss_class + loss_energy + loss_temp\n",
        "            loss.backward()\n",
        "            optimizer.step()\n",
        "\n",
        "            running_train_loss += loss.item() * x_batch.size(0)\n",
        "\n",
        "        epoch_train_loss = running_train_loss / len(train_loader.dataset)\n",
        "        train_losses.append(epoch_train_loss)\n",
        "\n",
        "        # ——— EVAL ———\n",
        "        model.eval()\n",
        "        running_test_loss = 0.0\n",
        "        with torch.no_grad():\n",
        "            for x_batch, y_batch, _ in test_loader:\n",
        "                out = model(x_batch)\n",
        "                running_test_loss += regression_loss_fn(out, y_batch).item() * x_batch.size(0)\n",
        "        epoch_test_loss = running_test_loss / len(test_loader.dataset)\n",
        "        test_losses.append(epoch_test_loss)\n",
        "\n",
        "        # ——— LOG & CHECKPOINT ———\n",
        "        if epoch % print_every == 0 or epoch == epochs - 1:\n",
        "            print(f\"Epoch {epoch:4d} ▶ train_loss: {epoch_train_loss:.6f}  \"\n",
        "                  f\"test_loss: {epoch_test_loss:.6f}\")\n",
        "            save_checkpoint(model, optimizer, epoch, epoch_test_loss,\n",
        "                            path=\"checkpoint_epoch-{}.pth\")\n",
        "\n",
        "    # ——— PLOT ———\n",
        "    plt.plot(train_losses, label=\"Train Loss\")\n",
        "    plt.plot(test_losses, label=\"Test Loss\")\n",
        "    plt.xlabel(\"Epoch\")\n",
        "    plt.ylabel(\"Loss\")\n",
        "    plt.legend()\n",
        "    plt.grid(True)\n",
        "    plt.show()\n",
        "\n",
        "    return model, train_losses, test_losses\n",
        "\n",
        "def plot_fit_traj(cavs, target_trajectory, basis, response_matrix, targetlbl, files, dropdevs):\n",
        "    \"\"\"\n",
        "    Function to plot the fit trajectory. This will load the BPM data and call the linear_fit_to_basis function.\n",
        "\n",
        "    :param cavs: List of cavities.\n",
        "    :param target_trajectory: Target trajectory.\n",
        "    :param basis: Basis for the fit.\n",
        "    :param response_matrix: Response matrix.\n",
        "    :param targetlbl: Target labels.\n",
        "    :param files: List of files containing the data.\n",
        "    :param dropdevs: Devices to drop from the data.\n",
        "    \"\"\"\n",
        "    tensor_b_vecs = [torch.stack([torch.tensor(row.values, dtype=torch.float32) for _, row in response_matrix[i].iterrows()]) for i in range(3)]\n",
        "    target_tensor = torch.stack([torch.tensor(df.values.squeeze(), dtype=torch.float32) for df in target_trajectory])\n",
        "\n",
        "    # Load BPM data\n",
        "    bpm_dfs = load_BPMphase_data_multi(cavs, files, dropdevs)\n",
        "\n",
        "    # Perform linear fit basis\n",
        "    model, train_losses, test_losses = linear_fit_to_basis(tensor_b_vecs, target_tensor, bpm_dfs)\n",
        "\n",
        "    return"
      ],
      "metadata": {
        "id": "1jSIGVvNdmcJ"
      },
      "execution_count": null,
      "outputs": []
    },
    {
      "cell_type": "code",
      "source": [
        "plot_fit_traj(cavs, opp, basis_choice, ipp, 'a', files, devices_to_drop)"
      ],
      "metadata": {
        "colab": {
          "base_uri": "https://localhost:8080/",
          "height": 640
        },
        "id": "q070rkIWdmer",
        "outputId": "7445d9d5-17e6-4cf1-99da-a5c10f0d4899"
      },
      "execution_count": null,
      "outputs": [
        {
          "output_type": "stream",
          "name": "stdout",
          "text": [
            "Epoch    0 ▶ train_loss: 13745.747135  test_loss: 10478.490234\n",
            "Epoch  100 ▶ train_loss: 10.574711  test_loss: 0.775157\n",
            "Epoch  200 ▶ train_loss: 11.309729  test_loss: 0.915731\n",
            "Epoch  300 ▶ train_loss: 11.663639  test_loss: 0.599681\n",
            "Epoch  400 ▶ train_loss: 10.912492  test_loss: 0.521006\n",
            "Epoch  500 ▶ train_loss: 10.556554  test_loss: 0.408302\n",
            "Epoch  600 ▶ train_loss: 11.034112  test_loss: 0.562825\n",
            "Epoch  700 ▶ train_loss: 11.066004  test_loss: 0.444693\n",
            "Epoch  800 ▶ train_loss: 11.341786  test_loss: 1.235717\n",
            "Epoch  900 ▶ train_loss: 11.646248  test_loss: 0.875100\n",
            "Epoch  999 ▶ train_loss: 10.313494  test_loss: 1.233413\n"
          ]
        },
        {
          "output_type": "display_data",
          "data": {
            "text/plain": [
              "<Figure size 640x480 with 1 Axes>"
            ],
            "image/png": "[encoded data removed]"
          },
          "metadata": {}
        }
      ]
    },
    {
      "cell_type": "code",
      "source": [
        "files = [path_test]\n",
        "dfs = load_BPMphase_data_multi(cavs_both,files,devices_to_drop,scan=False)\n",
        "tip=[df[BPM_list].mean() for df in dfs]\n",
        "top = [df[cavs].mean() for df in dfs]\n",
        "\n",
        "def predict_single_input(input_1x27, checkpoint_path=\"checkpoint_epoch-800.pth\"):\n",
        "    # Ensure input is a torch tensor of shape (1, 27)\n",
        "    if isinstance(input_1x27, list) or isinstance(input_1x27, np.ndarray):\n",
        "        input_tensor = torch.tensor(input_1x27, dtype=torch.float32).view(1, -1)\n",
        "    elif isinstance(input_1x27, torch.Tensor):\n",
        "        input_tensor = input_1x27.view(1, -1)\n",
        "    else:\n",
        "        raise ValueError(\"Input must be a list, numpy array, or torch tensor.\")\n",
        "\n",
        "    model = DeepNN(input_dim=27, output_dim=7)\n",
        "    checkpoint = torch.load(checkpoint_path)\n",
        "    model.load_state_dict(checkpoint['model_state_dict'])\n",
        "    model.eval()\n",
        "\n",
        "    with torch.no_grad():\n",
        "        output = model(input_tensor)\n",
        "        return output.numpy()\n",
        "\n",
        "\n",
        "test_input = tip[0].values\n",
        "test_tensor = torch.tensor(test_input, dtype=torch.float32)\n",
        "predicted_output = predict_single_input(test_tensor)\n",
        "\n",
        "print(\"Predicted Output:\", predicted_output[0])\n",
        "print(\"Actual output:\",top[0])"
      ],
      "metadata": {
        "colab": {
          "base_uri": "https://localhost:8080/"
        },
        "id": "9sVrSnUeFM4G",
        "outputId": "6cb0d22d-7ea7-4a1c-a675-7b08cc205369"
      },
      "execution_count": null,
      "outputs": [
        {
          "output_type": "stream",
          "name": "stdout",
          "text": [
            "Predicted Output: [235.1805   -34.22428  -26.458126 -39.9523   -22.933626 -36.35771\n",
            " 227.57213 ]\n",
            "Actual output: L:RFBPAH    233.560181\n",
            "L:V1QSET    -34.119999\n",
            "L:V2QSET    -26.400000\n",
            "L:V3QSET    -40.099998\n",
            "L:V4QSET    -23.000000\n",
            "L:V5QSET    -36.199989\n",
            "L:RFQPAH    229.608154\n",
            "dtype: float64\n"
          ]
        }
      ]
    },
    {
      "cell_type": "code",
      "source": [],
      "metadata": {
        "id": "iR38QONtN92F"
      },
      "execution_count": null,
      "outputs": []
    }
  ]
}