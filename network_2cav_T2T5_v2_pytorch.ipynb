{
  "cells": [
    {
      "cell_type": "markdown",
      "metadata": {
        "id": "view-in-github",
        "colab_type": "text"
      },
      "source": [
        "<a href=\"https://colab.research.google.com/github/jaysulk/uic_fnal_linac_phase_comp/blob/Sulskis-dev/network_2cav_T2T5_v2_pytorch.ipynb\" target=\"_parent\"><img src=\"https://colab.research.google.com/assets/colab-badge.svg\" alt=\"Open In Colab\"/></a>"
      ]
    },
    {
      "cell_type": "markdown",
      "metadata": {
        "id": "EIdT9iu_Z4Rb"
      },
      "source": [
        "# Tank2 and Tank5 phase regulation"
      ]
    },
    {
      "cell_type": "code",
      "source": [
        "from google.colab import drive"
      ],
      "metadata": {
        "id": "t1Q3LGEd57Wr"
      },
      "execution_count": 1,
      "outputs": []
    },
    {
      "cell_type": "code",
      "execution_count": 2,
      "metadata": {
        "colab": {
          "base_uri": "https://localhost:8080/"
        },
        "id": "rqZIIlATBctc",
        "outputId": "195f45bf-4ce1-4f26-f0a8-305988e18821"
      },
      "outputs": [
        {
          "output_type": "stream",
          "name": "stdout",
          "text": [
            "Mounted at /content/drive\n"
          ]
        }
      ],
      "source": [
        "drive.mount('/content/drive')"
      ]
    },
    {
      "cell_type": "code",
      "execution_count": 24,
      "metadata": {
        "execution": {
          "iopub.execute_input": "2021-06-19T02:12:01.722334Z",
          "iopub.status.busy": "2021-06-19T02:12:01.721620Z",
          "iopub.status.idle": "2021-06-19T02:12:02.459097Z",
          "shell.execute_reply": "2021-06-19T02:12:02.459540Z"
        },
        "id": "1rRo8oNqZ-Rj"
      },
      "outputs": [],
      "source": [
        "import matplotlib.pyplot as plt\n",
        "import numpy as np\n",
        "import pandas as pd\n",
        "import seaborn as sns\n",
        "import math\n",
        "import sklearn.mixture\n",
        "# Make numpy printouts easier to read.\n",
        "np.set_printoptions(precision=3, suppress=True)\n",
        "\n",
        "plt.rcParams[\"font.family\"] = \"Times New Roman\"\n",
        "plt.rcParams['mathtext.fontset'] = 'cm'\n",
        "plt.rcParams[\"savefig.format\"] = 'pdf'\n",
        "plt.rc(\"axes\",prop_cycle= plt.cycler(\"color\", plt.cm.tab20.colors))"
      ]
    },
    {
      "cell_type": "code",
      "execution_count": 25,
      "metadata": {
        "execution": {
          "iopub.execute_input": "2021-06-19T02:12:02.463722Z",
          "iopub.status.busy": "2021-06-19T02:12:02.463169Z",
          "iopub.status.idle": "2021-06-19T02:12:03.648523Z",
          "shell.execute_reply": "2021-06-19T02:12:03.648892Z"
        },
        "id": "9xQKvCJ85kCQ"
      },
      "outputs": [],
      "source": [
        "import torch\n",
        "import torch.nn as nn\n",
        "import torch.optim as optim"
      ]
    },
    {
      "cell_type": "code",
      "execution_count": 26,
      "metadata": {
        "id": "IE9Ti5P-NpdM"
      },
      "outputs": [],
      "source": [
        "device = torch.device('cuda:0' if torch.cuda.is_available() else 'cpu')"
      ]
    },
    {
      "cell_type": "markdown",
      "metadata": {
        "id": "6SWtkIjhrZwa"
      },
      "source": [
        "## DNN regression models\n",
        "\n",
        "The base model contains the following layers:\n",
        "\n",
        "* The normalization layer.\n",
        "* N hidden, nonlinear, `Dense` layers using the `relu` nonlinearity.\n",
        "* A linear output layer.\n",
        "\n",
        "We also test a model without input normalization layer.\n",
        "\n",
        "#PyTorch conversion\n",
        "\n",
        "* Layers: Dense layers are converted to nn.Linear, and ReLU activations remain as nn.ReLU().\n",
        "* Batch Normalization: Keras BatchNormalization is replaced with nn.BatchNorm1d.\n",
        "* Optimizers: tf.keras.optimizers.Adam is converted to torch.optim.Adam.\n",
        "* Loss function: mean_squared_error is mapped to nn.MSELoss().\n",
        "* Normalization: In Keras, you have norm as an input. In PyTorch, you might need to preprocess input tensors separately.\n",
        "* LSTM Model: In PyTorch, LSTMs need explicit handling of sequences and hidden states.\n"
      ]
    },
    {
      "cell_type": "code",
      "source": [
        "class MLP(nn.Module):\n",
        "    def __init__(self, input_dim, numlabel=1, use_batchnorm=True):\n",
        "        super(MLP, self).__init__()\n",
        "        layers = []\n",
        "\n",
        "        layers.append(nn.Linear(input_dim, 32))\n",
        "        layers.append(nn.ReLU())\n",
        "        if use_batchnorm:\n",
        "            layers.append(nn.BatchNorm1d(32))\n",
        "\n",
        "        layers.append(nn.Linear(32, 64))\n",
        "        layers.append(nn.ReLU())\n",
        "        if use_batchnorm:\n",
        "            layers.append(nn.BatchNorm1d(64))\n",
        "\n",
        "        layers.append(nn.Linear(64, 128))\n",
        "        layers.append(nn.ReLU())\n",
        "        if use_batchnorm:\n",
        "            layers.append(nn.BatchNorm1d(128))\n",
        "\n",
        "        layers.append(nn.Linear(128, 64))\n",
        "        layers.append(nn.ReLU())\n",
        "        if use_batchnorm:\n",
        "            layers.append(nn.BatchNorm1d(64))\n",
        "\n",
        "        layers.append(nn.Linear(64, 32))\n",
        "        layers.append(nn.ReLU())\n",
        "        if use_batchnorm:\n",
        "            layers.append(nn.BatchNorm1d(32))\n",
        "\n",
        "        layers.append(nn.Linear(32, numlabel))\n",
        "\n",
        "        self.model = nn.Sequential(*layers)\n",
        "\n",
        "    def forward(self, x):\n",
        "        return self.model(x)"
      ],
      "metadata": {
        "id": "5ySObX-n4Q99"
      },
      "execution_count": 27,
      "outputs": []
    },
    {
      "cell_type": "code",
      "source": [
        "def build_and_compile_model_len(input_dim, init_lr, numlabel):\n",
        "    model = MLP(input_dim, numlabel=numlabel)\n",
        "    optimizer = optim.Adam(model.parameters(), lr=init_lr)\n",
        "    loss_fn = nn.MSELoss()\n",
        "    return model, optimizer, loss_fn\n",
        "\n",
        "def build_and_compile_model_square(input_dim, init_lr):\n",
        "    class SquareMLP(nn.Module):\n",
        "        def __init__(self):\n",
        "            super(SquareMLP, self).__init__()\n",
        "            self.model = nn.Sequential(\n",
        "                nn.Linear(input_dim, 128),\n",
        "                nn.ReLU(),\n",
        "                nn.BatchNorm1d(128),\n",
        "                nn.Linear(128, 128),\n",
        "                nn.ReLU(),\n",
        "                nn.BatchNorm1d(128),\n",
        "                nn.Linear(128, 128),\n",
        "                nn.ReLU(),\n",
        "                nn.BatchNorm1d(128),\n",
        "                nn.Linear(128, 128),\n",
        "                nn.ReLU(),\n",
        "                nn.BatchNorm1d(128),\n",
        "                nn.Linear(128, 128),\n",
        "                nn.ReLU(),\n",
        "                nn.BatchNorm1d(128),\n",
        "                nn.Linear(128, 1)\n",
        "            )\n",
        "\n",
        "        def forward(self, x):\n",
        "            return self.model(x)\n",
        "\n",
        "    model = SquareMLP()\n",
        "    optimizer = optim.Adam(model.parameters(), lr=init_lr)\n",
        "    loss_fn = nn.MSELoss()\n",
        "    return model, optimizer, loss_fn\n",
        "\n",
        "def build_and_compile_model_nobatch(input_dim, init_lr):\n",
        "    class NoBatchMLP(nn.Module):\n",
        "        def __init__(self):\n",
        "            super(NoBatchMLP, self).__init__()\n",
        "            self.model = nn.Sequential(\n",
        "                nn.Linear(input_dim, 64),\n",
        "                nn.ReLU(),\n",
        "                nn.Linear(64, 128),\n",
        "                nn.ReLU(),\n",
        "                nn.Linear(128, 256),\n",
        "                nn.ReLU(),\n",
        "                nn.Linear(256, 128),\n",
        "                nn.ReLU(),\n",
        "                nn.Linear(128, 64),\n",
        "                nn.ReLU(),\n",
        "                nn.Linear(64, 1)\n",
        "            )\n",
        "\n",
        "        def forward(self, x):\n",
        "            return self.model(x)\n",
        "\n",
        "    model = NoBatchMLP()\n",
        "    optimizer = optim.Adam(model.parameters(), lr=init_lr)\n",
        "    loss_fn = nn.MSELoss()\n",
        "    return model, optimizer, loss_fn\n",
        "\n",
        "def build_and_compile_model_nonorm(input_dim, init_lr):\n",
        "    class NoNormMLP(nn.Module):\n",
        "        def __init__(self):\n",
        "            super(NoNormMLP, self).__init__()\n",
        "            self.model = nn.Sequential(\n",
        "                nn.Linear(input_dim, 100),\n",
        "                nn.ReLU(),\n",
        "                nn.Linear(100, 100),\n",
        "                nn.ReLU(),\n",
        "                nn.Linear(100, 100),\n",
        "                nn.ReLU(),\n",
        "                nn.Linear(100, 100),\n",
        "                nn.ReLU(),\n",
        "                nn.Linear(100, 1)\n",
        "            )\n",
        "\n",
        "        def forward(self, x):\n",
        "            return self.model(x)\n",
        "\n",
        "    model = NoNormMLP()\n",
        "    optimizer = optim.Adam(model.parameters(), lr=init_lr)\n",
        "    loss_fn = nn.MSELoss()\n",
        "    return model, optimizer, loss_fn"
      ],
      "metadata": {
        "id": "vHkfaNT14fbH"
      },
      "execution_count": 28,
      "outputs": []
    },
    {
      "cell_type": "code",
      "source": [
        "class LSTMModel(nn.Module):\n",
        "    def __init__(self, input_dim, numlabel):\n",
        "        super(LSTMModel, self).__init__()\n",
        "        self.lstm1 = nn.LSTM(input_dim, 128, batch_first=True, return_sequences=True)\n",
        "        self.lstm2 = nn.LSTM(128, 128, batch_first=True)\n",
        "        self.fc = nn.Linear(128, numlabel)\n",
        "\n",
        "    def forward(self, x):\n",
        "        x, _ = self.lstm1(x)\n",
        "        x, _ = self.lstm2(x)\n",
        "        x = self.fc(x[:, -1, :])  # Take the output from the last time step\n",
        "        return x"
      ],
      "metadata": {
        "id": "_RXSV02l4YfY"
      },
      "execution_count": 29,
      "outputs": []
    },
    {
      "cell_type": "code",
      "source": [
        "def build_and_compile_model_LSTM(input_dim, init_lr, numlabel):\n",
        "    model = LSTMModel(input_dim, numlabel)\n",
        "    optimizer = optim.Adam(model.parameters(), lr=init_lr)\n",
        "    loss_fn = nn.MSELoss()\n",
        "    return model, optimizer, loss_fn"
      ],
      "metadata": {
        "id": "xkkGVl5b4h2K"
      },
      "execution_count": 30,
      "outputs": []
    },
    {
      "cell_type": "markdown",
      "metadata": {
        "id": "c7u0ZcohtXLU"
      },
      "source": [
        "## Define learning schedules and training"
      ]
    },
    {
      "cell_type": "code",
      "execution_count": 31,
      "metadata": {
        "id": "KxiC1PB7tXLU"
      },
      "outputs": [],
      "source": [
        "# Define learning schedules\n",
        "\n",
        "initial_lr = 0.001\n",
        "\n",
        "def lr_time_based_decay(epoch, lr):\n",
        "    epochs = 400\n",
        "    decay = initial_lr / epochs\n",
        "    return lr * 1 / (1 + decay * epoch)\n",
        "\n",
        "\n",
        "def lr_step_decay(epoch, lr):\n",
        "    drop_rate = 0.5\n",
        "    epochs_drop = 200.0\n",
        "    return initial_lr * math.pow(drop_rate, math.floor(epoch/epochs_drop))\n",
        "\n",
        "def lr_exp_decay(epoch, lr):\n",
        "    k = 0.1\n",
        "    return initial_lr * math.exp(-k*epoch)\n",
        "\n"
      ]
    },
    {
      "cell_type": "code",
      "execution_count": 32,
      "metadata": {
        "id": "-CKVV6dTtXLU"
      },
      "outputs": [],
      "source": [
        "def train_model(model,features,labels,eps,lrs=None):\n",
        "    if lrs is None:\n",
        "        history = model.fit(\n",
        "            features,\n",
        "            labels,\n",
        "            validation_split=0.2,\n",
        "            batch_size=64, #30\n",
        "            verbose=0,\n",
        "            epochs=int(eps)\n",
        "        )\n",
        "    else:\n",
        "        history = model.fit(\n",
        "            features,\n",
        "            labels,\n",
        "            validation_split=0.2,\n",
        "            batch_size=64,\n",
        "            verbose=0,\n",
        "            epochs=int(eps),\n",
        "            callbacks=[LearningRateScheduler(lrs, verbose=0)],\n",
        "        )\n",
        "    return history"
      ]
    },
    {
      "cell_type": "markdown",
      "metadata": {
        "id": "2XnlTiCutXLV"
      },
      "source": [
        "## Define plotting functions"
      ]
    },
    {
      "cell_type": "code",
      "execution_count": 33,
      "metadata": {
        "execution": {
          "iopub.execute_input": "2021-06-19T02:12:21.238671Z",
          "iopub.status.busy": "2021-06-19T02:12:21.238016Z",
          "iopub.status.idle": "2021-06-19T02:12:21.338446Z",
          "shell.execute_reply": "2021-06-19T02:12:21.338834Z"
        },
        "id": "-9Dbj0fX23RQ"
      },
      "outputs": [],
      "source": [
        "def plot_loss(history):\n",
        "    plt.plot(history.history['loss'], label='loss')\n",
        "    plt.plot(history.history['val_loss'], label='val_loss')\n",
        "    plt.ylim([0, 50])\n",
        "    plt.xlabel('Epoch')\n",
        "    plt.ylabel('Loss')\n",
        "    plt.legend()\n",
        "    plt.grid(True)\n",
        "\n",
        "def plot_multi_loss(histories):\n",
        "    fig, ax = plt.subplots(len(histories),1,figsize=(9,9))\n",
        "    for i in range(len(histories)):\n",
        "        ax[i].plot(histories[i].history['loss'], label='loss')\n",
        "        ax[i].plot(histories[i].history['val_loss'], label='val_loss')\n",
        "        ax[i].set_ylim([0, 0.5])\n",
        "        ax[i].set(xlabel='Epoch', ylabel='Loss')\n",
        "        ax[i].legend()\n",
        "        ax[i].grid(True)\n",
        "\n",
        "    fig.tight_layout()\n"
      ]
    },
    {
      "cell_type": "code",
      "execution_count": 34,
      "metadata": {
        "execution": {
          "iopub.execute_input": "2021-06-19T02:12:21.401088Z",
          "iopub.status.busy": "2021-06-19T02:12:21.400539Z",
          "iopub.status.idle": "2021-06-19T02:12:21.562114Z",
          "shell.execute_reply": "2021-06-19T02:12:21.561710Z"
        },
        "id": "Xe7RXH3N3CWU"
      },
      "outputs": [],
      "source": [
        "def plot_2dhist(predictions,labels):\n",
        "\n",
        "    fig, ax = plt.subplots(1,int(labels.shape[1]), figsize=(5*int(labels.shape[1]),5))\n",
        "    fig.tight_layout()\n",
        "    devs = ['DTL2','DTL5']\n",
        "\n",
        "    if labels.shape[1] ==1:\n",
        "        ax = [ax]\n",
        "    for i in range(labels.shape[1]):\n",
        "        #key = labels.columns[i]\n",
        "        key = devs[i]\n",
        "        lims = [min(np.min(predictions[:,i]),np.min(labels.iloc[:,i])),\n",
        "                max(np.max(predictions[:,i]),np.max(labels.iloc[:,i]))]\n",
        "        h = ax[i].hist2d(labels.iloc[:,i], predictions[:,i], bins=40, cmin=1, cmap='winter')\n",
        "        #ax.set(xlabel='True Values %s'%key, ylabel='Predictions %s'%key)\n",
        "        ax[i].set(title='%s'%key)\n",
        "        ax[i].tick_params(axis='both',labelsize='x-large')\n",
        "        ax[i].set_xlim(lims)\n",
        "        ax[i].set_ylim(lims)\n",
        "        ax[i].plot(lims, lims, color='k')\n",
        "        fig.colorbar(h[3], ax=ax[i])\n",
        "\n",
        "    fig.supylabel('Predicted $\\Delta\\phi_{RF}$ (deg)', fontsize='x-large')\n",
        "    fig.suptitle('True $\\Delta\\phi_{RF}$ (deg)', y=0.05, fontsize='x-large')\n",
        "    plt.subplots_adjust(wspace=0.1, hspace=0)\n",
        "    plt.subplots_adjust(bottom=0.20)\n",
        "    plt.subplots_adjust(top=0.92)\n",
        "    plt.subplots_adjust(left=0.14)\n",
        "    plt.subplots_adjust(right=0.96)"
      ]
    },
    {
      "cell_type": "code",
      "execution_count": 35,
      "metadata": {
        "id": "5yl10pgTtXLW"
      },
      "outputs": [],
      "source": [
        "def plot_2dscatter_many(predictions,labels):\n",
        "\n",
        "    fig, ax = plt.subplots(1,int(labels[0].shape[1]), figsize=(5*int(labels[0].shape[1]),5))\n",
        "    if labels[0].shape[1] ==1:\n",
        "        ax = [ax]\n",
        "\n",
        "    for i in range(labels[0].shape[1]):\n",
        "        key = labels[0].columns[i]\n",
        "\n",
        "        for j in range(len(labels)):\n",
        "            ax[i].scatter(labels[j].iloc[:,i], predictions[j][:,i], label='Data %d'%j)\n",
        "            #ax[i].fill_between(labels[j].iloc[:,i],[np.min(predictions[j][k,i]) for k in ],np.max(predictions[j][:,i]),alpha=0.5)\n",
        "        ax[i].set(xlabel='True Values %s'%key, ylabel='Predictions %s'%key)\n",
        "        lims = [min(np.min([np.min(pred[:,i]) for pred in predictions]),np.min([np.min(lab.iloc[:,i]) for lab in labels])),\n",
        "                max(np.max([np.max(pred[:,i]) for pred in predictions]),np.max([np.max(lab.iloc[:,i]) for lab in labels]))]\n",
        "        ax[i].set_xlim(lims)\n",
        "        ax[i].set_ylim(lims)\n",
        "        #print(lims)\n",
        "        ax[i].plot(lims, lims, color='b')\n",
        "        ax[i].legend(ncol=2,fontsize=14, loc='upper left')\n",
        "    fig.tight_layout()"
      ]
    },
    {
      "cell_type": "code",
      "execution_count": 36,
      "metadata": {
        "execution": {
          "iopub.execute_input": "2021-06-19T02:12:21.401088Z",
          "iopub.status.busy": "2021-06-19T02:12:21.400539Z",
          "iopub.status.idle": "2021-06-19T02:12:21.562114Z",
          "shell.execute_reply": "2021-06-19T02:12:21.561710Z"
        },
        "id": "9g9Ls-ZOtXLb"
      },
      "outputs": [],
      "source": [
        "def plot_2dscatter(predictions,labels):\n",
        "\n",
        "    fig, ax = plt.subplots(1,int(labels.shape[1]), figsize=(5*int(labels.shape[1]),5))\n",
        "    if labels.shape[1] ==1:\n",
        "        ax = [ax]\n",
        "    for i in range(labels.shape[1]):\n",
        "        key = labels.columns[i]\n",
        "        ax[i].scatter(labels.iloc[:,i], predictions[:,i], color='r')\n",
        "        ax[i].set(xlabel='True Values %s'%key, ylabel='Predictions %s'%key)\n",
        "        lims = [min(np.min(predictions[:,i]),np.min(labels.iloc[:,i])),\n",
        "                max(np.max(predictions[:,i]),np.max(labels.iloc[:,i]))]\n",
        "        ax[i].set_xlim(lims)\n",
        "        ax[i].set_ylim(lims)\n",
        "        print(lims)\n",
        "        ax[i].plot(lims, lims, color='b')\n",
        "    fig.tight_layout()"
      ]
    },
    {
      "cell_type": "code",
      "execution_count": 37,
      "metadata": {
        "execution": {
          "iopub.execute_input": "2021-06-19T02:12:21.584513Z",
          "iopub.status.busy": "2021-06-19T02:12:21.581281Z",
          "iopub.status.idle": "2021-06-19T02:12:21.697549Z",
          "shell.execute_reply": "2021-06-19T02:12:21.697922Z"
        },
        "id": "f-OHX4DiXd8x"
      },
      "outputs": [],
      "source": [
        "def plot_1derror(predictions,labels):\n",
        "\n",
        "    props = dict(boxstyle='round', facecolor='white', alpha=0.4)\n",
        "    devs = ['DTL2','DTL5']\n",
        "    fig, ax = plt.subplots(1,int(labels.shape[1]), figsize=(5*int(labels.shape[1]),5),sharey=False)\n",
        "    fig.tight_layout()\n",
        "\n",
        "    nbins=60\n",
        "    if labels.shape[1]==1:\n",
        "        ax = [ax]\n",
        "    for i in range(labels.shape[1]):\n",
        "        #key = labels.columns[i]\n",
        "        key = devs[i]\n",
        "        error =(predictions[:,i] - labels.iloc[:,i])\n",
        "        error = [e for e in error if e <3*np.std(error)]\n",
        "\n",
        "        ax[i].hist(error, bins=nbins, color='b', edgecolor='k', alpha=0.65, label='Data')\n",
        "        #ax[i].set(title='%s'%key ,xlabel='Prediction Error (deg)', ylabel='Count')\n",
        "        ax[i].set(title='%s'%key)\n",
        "        #ax[i].xaxis.label.set_size(13)\n",
        "        #ax[i].yaxis.label.set_size(13)\n",
        "\n",
        "        ers = np.array(error)[:,None]\n",
        "        gmm = sklearn.mixture.GaussianMixture()\n",
        "        r = gmm.fit(ers)\n",
        "        mean = r.means_[0, 0]\n",
        "        sigma = np.sqrt(r.covariances_[0,0])\n",
        "        textstr = '\\n'.join((\n",
        "                    r'$\\mu=%.2f$' % (mean,),\n",
        "                    r'$\\sigma=%.2f$' % (sigma,)))\n",
        "        print(textstr)\n",
        "        xlin = np.linspace(np.min(error),np.max(error),1000).reshape(-1,1)\n",
        "        pdf = np.exp(gmm.score_samples(xlin))\n",
        "        binsize = (np.max(error) - np.min(error))/nbins\n",
        "        ax[i].plot(xlin,pdf*(len(error)*binsize),color='k', label='Gauss fit')\n",
        "        ax[i].text(0.05, 0.65, textstr, transform=ax[i].transAxes, color='k', fontsize='large',\n",
        "                           verticalalignment='top', bbox=props)\n",
        "        ax[i].legend(fontsize='large', loc='upper left')\n",
        "        ax[i].tick_params(axis='both',labelsize='x-large')\n",
        "\n",
        "    fig.supylabel('Entries/Bin', fontsize='x-large')\n",
        "    fig.suptitle('Prediction error (degrees)', y=0.05, fontsize='x-large')\n",
        "    plt.subplots_adjust(wspace=0.19, hspace=0)\n",
        "    plt.subplots_adjust(bottom=0.17)\n",
        "    plt.subplots_adjust(top=0.92)\n",
        "    plt.subplots_adjust(left=0.10)\n",
        "    plt.subplots_adjust(right=0.96)\n"
      ]
    },
    {
      "cell_type": "code",
      "execution_count": 38,
      "metadata": {
        "id": "sO6sxfnztXLc"
      },
      "outputs": [],
      "source": [
        "def plot_1derror_many(predictions,labels):\n",
        "\n",
        "    props = dict(boxstyle='round', facecolor='white', alpha=0.4)\n",
        "\n",
        "    fig, ax = plt.subplots(1,int(labels[0].shape[1]), figsize=(5*int(labels[0].shape[1]),5),sharey=False)\n",
        "    fig.tight_layout()\n",
        "    if labels[0].shape[1]==1:\n",
        "        ax = [ax]\n",
        "    for i in range(labels[0].shape[1]):\n",
        "        key = labels[0].columns[i]\n",
        "        nbins=40\n",
        "        for j in range(len(labels)):\n",
        "            error =(predictions[j][:,i] - labels[j].iloc[:,i])\n",
        "            error = [e for e in error if e <1*np.std(error)]\n",
        "            if i not in[2,3]:\n",
        "                ax[i].hist(error, bins=nbins, alpha=0.45, label='Data')\n",
        "            else:\n",
        "                ax[i].hist(error, bins=100, alpha=0.45, label='Data')\n",
        "        ax[i].set(title='%s'%key)\n",
        "        #ax[i].legend(fontsize=14, loc='upper left')\n",
        "        ax[i].tick_params(axis='both',labelsize='x-large')\n",
        "\n",
        "    fig.supylabel('Entries/Bin', fontsize='x-large')\n",
        "    fig.suptitle('Prediction error (degrees)', y=0.05, fontsize='x-large')\n",
        "    plt.subplots_adjust(wspace=0.19, hspace=0)\n",
        "    plt.subplots_adjust(bottom=0.17)\n",
        "    plt.subplots_adjust(top=0.92)\n",
        "    plt.subplots_adjust(left=0.09)\n",
        "    plt.subplots_adjust(right=0.96)\n"
      ]
    },
    {
      "cell_type": "markdown",
      "metadata": {
        "id": "gFh9ne3FZ-On"
      },
      "source": [
        "## Define data loading functions"
      ]
    },
    {
      "cell_type": "code",
      "execution_count": 39,
      "metadata": {
        "id": "sfA4WX5ktXLc"
      },
      "outputs": [],
      "source": [
        "def fetch_data(file,datacols,cuts,setdevs):\n",
        "    dataset = pd.read_csv(file)\n",
        "    dataset.columns = dataset.columns.str.replace(\"[()]\", \"_\",regex=True)\n",
        "\n",
        "    cols = list(dataset.filter(regex='|'.join(datacols)))\n",
        "\n",
        "    # for set points, keep _S_ and drop _R_ if available\n",
        "    setdevs = ['L:%s_'%d for d in setdevs]\n",
        "    cols = [col for col in cols if col not in setdevs]\n",
        "\n",
        "    subset = dataset.loc[:,cols]\n",
        "    subset.columns = subset.columns.str.replace(\"_R_|_S_\", \"\",regex=True)\n",
        "    subset.drop(list(subset.filter(regex=r'\\.1|Time|step|iter')),axis=1, inplace=True)\n",
        "\n",
        "    # apply data quality cuts\n",
        "    if len(cuts)>0:\n",
        "        subset.query(cuts,inplace=True)\n",
        "\n",
        "    # augment jumps in phase data\n",
        "    #subset['B:BQ3F'] = subset['B:BQF3'].apply(lambda x : x if x > 0 else x +360)\n",
        "    subset.dropna()\n",
        "\n",
        "    return subset"
      ]
    },
    {
      "cell_type": "code",
      "execution_count": 40,
      "metadata": {
        "id": "iBo17fyotXLd"
      },
      "outputs": [],
      "source": [
        "def fetch_reference(dataset,devs,setvals,stepsize):\n",
        "\n",
        "    conds = [\"(np.abs(dataset['%s']-%s)<%f)\"%(d,s,k) for (d,s,k) in zip(devs,setvals,stepsize)]\n",
        "\n",
        "    #reference = dataset.loc[(np.abs(dataset[devs[0]]-setvals[0])<0.5)].mean()\n",
        "    reference = dataset.loc[eval('&'.join(conds)).ravel()].mean()\n",
        "    return reference"
      ]
    },
    {
      "cell_type": "code",
      "execution_count": 41,
      "metadata": {
        "id": "GLiV1XwrtXLd"
      },
      "outputs": [],
      "source": [
        "def fetch_slice(dataset,devs,setvals,stepsize):\n",
        "\n",
        "    conds = [\"(np.abs(dataset['%s']-%s)<%f)\"%(d,s,k) for (d,s,k) in zip(devs,setvals,stepsize)]\n",
        "\n",
        "    sliced = dataset.loc[eval('&'.join(conds)).ravel()]\n",
        "    return sliced"
      ]
    },
    {
      "cell_type": "code",
      "execution_count": 42,
      "metadata": {
        "id": "eMPx1FKKtXLd"
      },
      "outputs": [],
      "source": [
        "def fetch_features_labels(dataset,targetdevs):\n",
        "    features = dataset.copy()\n",
        "    labelstr = list(dataset.filter(regex='|'.join(targetdevs)))\n",
        "    labels = features.loc[:,labelstr]\n",
        "    features.drop(columns=labelstr, inplace=True)\n",
        "\n",
        "    return features,labels"
      ]
    },
    {
      "cell_type": "code",
      "execution_count": 43,
      "metadata": {
        "id": "ySFFYHXEtXLd"
      },
      "outputs": [],
      "source": [
        "# List of approximate BPM positions in meters\n",
        "dist_data = [26.5,27.0, 43.5, 44.0,60.8, 77.0,78.3,79.6,\n",
        "            80.8, 82.5, 84.4,\n",
        "            88.2, 90.1, 92.1,\n",
        "            96.3, 98.4, 100.6, 102.8,\n",
        "            105.0, 109.6, 111.9,\n",
        "            114.7, 116.7, 119.1, 121.6,\n",
        "            124.0, 126.5, 129.6, 131.6,\n",
        "            134.2, 136.8, 139.4, 141.6]\n",
        "#D42 : 107.3"
      ]
    },
    {
      "cell_type": "markdown",
      "metadata": {
        "id": "qeuC_9yDtXLd"
      },
      "source": [
        "## 2-phase models: T2, T5 setting"
      ]
    },
    {
      "cell_type": "code",
      "execution_count": 50,
      "metadata": {
        "id": "tujcSG5atXLd",
        "colab": {
          "base_uri": "https://localhost:8080/"
        },
        "outputId": "cb5dd811-3615-469e-8b2a-578102cd2628"
      },
      "outputs": [
        {
          "output_type": "stream",
          "name": "stdout",
          "text": [
            "[[178.57666015625, -26.5, -32.40999984741211], [180.2978515625, -26.5, -34.280033111572266]]\n"
          ]
        },
        {
          "output_type": "stream",
          "name": "stderr",
          "text": [
            "<ipython-input-40-0a503e90ac0b>:6: FutureWarning: Series.ravel is deprecated. The underlying array is already 1D, so ravel is not necessary.  Use `to_numpy()` for conversion to a numpy array instead.\n",
            "  reference = dataset.loc[eval('&'.join(conds)).ravel()].mean()\n",
            "<ipython-input-41-594ebfea2ea7>:5: FutureWarning: Series.ravel is deprecated. The underlying array is already 1D, so ravel is not necessary.  Use `to_numpy()` for conversion to a numpy array instead.\n",
            "  sliced = dataset.loc[eval('&'.join(conds)).ravel()]\n",
            "<ipython-input-40-0a503e90ac0b>:6: FutureWarning: Series.ravel is deprecated. The underlying array is already 1D, so ravel is not necessary.  Use `to_numpy()` for conversion to a numpy array instead.\n",
            "  reference = dataset.loc[eval('&'.join(conds)).ravel()].mean()\n"
          ]
        }
      ],
      "source": [
        "onedegdata = 'MyDrive/PhaseCompensation/devicescan_26042023.csv'\n",
        "path = r'MyDrive/PhaseCompensation/'\n",
        "files =['rfq_t2_t5_14122022.csv','devicescan_rfq_t2_t5.csv']\n",
        "cavs = ['L:RFQPAH','L:V2QSET','L:V5QSET']\n",
        "#cavs = ['L:V2QSET','L:V5QSET']\n",
        "\n",
        "dfs = [fetch_data('%s%s'%(path,f),cavs+['BF','BPM'],'',['%s_R'%c[2:] for c in cavs]) for f in files]\n",
        "\n",
        "dfs = [df.drop(list(df.filter(regex=r'20|B:|SS|SQT|2OF|D42')),axis=1) for df in dfs]\n",
        "\n",
        "\n",
        "# quality cuts\n",
        "dfs[0].iloc[0,:] = dfs[0].iloc[1,:]\n",
        "dfs[0].iloc[99,:] = dfs[0].iloc[100,:]\n",
        "dfs[0].iloc[297,:] = dfs[0].iloc[298,:]\n",
        "dfs[0].iloc[1386,:] = dfs[0].iloc[1387,:]\n",
        "dfs[0].iloc[1477,:] = dfs[0].iloc[1478,:]\n",
        "dfs[0].iloc[1683,:] = dfs[0].iloc[1684,:]\n",
        "dfs[0].iloc[1738,:] = dfs[0].iloc[1739,:]\n",
        "dfs[0].iloc[2574,:] = dfs[0].iloc[2575,:]\n",
        "dfs[0].iloc[2673,:] = dfs[0].iloc[2674,:]\n",
        "dfs[0].iloc[2970,:] = dfs[0].iloc[2971,:]\n",
        "dfs[0].iloc[3960,:] = dfs[0].iloc[3961,:]\n",
        "dfs[0].iloc[3982,:] = dfs[0].iloc[3983,:]\n",
        "dfs[0].iloc[4950,:] = dfs[0].iloc[4951,:]\n",
        "dfs[0].iloc[5346,:] = dfs[0].iloc[5347,:]\n",
        "dfs[0].iloc[5445,:] = dfs[0].iloc[5446,:]\n",
        "dfs[0].iloc[5841,:] = dfs[0].iloc[5842,:]\n",
        "dfs[0].iloc[5940,:] = dfs[0].iloc[5941,:]\n",
        "dfs[0].iloc[6435,:] = dfs[0].iloc[6436,:]\n",
        "dfs[0].iloc[6534,:] = dfs[0].iloc[6535,:]\n",
        "dfs[0].iloc[7128,:] = dfs[0].iloc[7129,:]\n",
        "dfs[0].iloc[7326,:] = dfs[0].iloc[7327,:]\n",
        "dfs[0].iloc[7623,:] = dfs[0].iloc[7624,:]\n",
        "dfs[0].iloc[7821,:] = dfs[0].iloc[7822,:]\n",
        "dfs[0].iloc[8118,:] = dfs[0].iloc[8119,:]\n",
        "dfs[0].iloc[8910,:] = dfs[0].iloc[8911,:]\n",
        "dfs[0].iloc[9207,:] = dfs[0].iloc[9208,:]\n",
        "dfs[0].iloc[9306,:] = dfs[0].iloc[9307,:]\n",
        "dfs[0].iloc[9603,:] = dfs[0].iloc[9604,:]\n",
        "dfs[0].iloc[9801,:] = dfs[0].iloc[9802,:]\n",
        "dfs[0].iloc[10098,:] = dfs[0].iloc[10099,:]\n",
        "dfs[0].iloc[10494,:] = dfs[0].iloc[10495,:]\n",
        "dfs[0].iloc[10890,:] = dfs[0].iloc[10891,:]\n",
        "dfs[0].iloc[10989,:] = dfs[0].iloc[10990,:]\n",
        "dfs[0].iloc[11088,:] = dfs[0].iloc[11089,:]\n",
        "dfs[0].iloc[11286,:] = dfs[0].iloc[11287,:]\n",
        "dfs[0].iloc[11884,:] = dfs[0].iloc[11885,:]\n",
        "dfs[0] = dfs[0].iloc[:-1,:]\n",
        "\n",
        "\n",
        "dfs[0] = dfs[0].loc[(dfs[0]['L:BPM3OF']>0)&\n",
        "                    (dfs[0]['L:BPM4IF']>0) & (dfs[0]['L:BPM5IF']<-87) & (dfs[0]['L:D13BF']<-17.5)&\n",
        "                    (dfs[0]['L:D41BF']<-150)& (dfs[0]['L:D52BF']<-44)& (dfs[0]['L:D72BF']<-65)]\n",
        "\n",
        "dfs[1].iloc[0,:] = dfs[1].iloc[1,:]\n",
        "dfs[1].iloc[5940] = dfs[1].iloc[5941]\n",
        "dfs[1] = dfs[1].iloc[:-1,:]\n",
        "\n",
        "meds = [[np.median(df[c]) for c in cavs] for df in dfs]\n",
        "#meds[0] = [178.57666015625, -26.5, -31.715069]\n",
        "print(meds)\n",
        "\n",
        "stepsize = [[3.,0.5,0.2],[3.9,0.35,0.4]]\n",
        "\n",
        "refs = [fetch_reference(df,cavs,med,step) for df,med,step in zip(dfs,meds,stepsize)]\n",
        "test = fetch_slice(dfs[0],cavs,meds[0],stepsize[0])\n",
        "#print(refs)\n",
        "ddfs = [df-ref for df,ref in zip(dfs,refs)]\n",
        "\n",
        "\n",
        "df1deg = fetch_data('%s'%onedegdata,cavs[1:]+['BF','BPM'],'',['%s_R'%c[2:] for c in cavs[1:]])\n",
        "df1deg = df1deg.drop(list(df1deg.filter(regex=r'20|B:|SS|SQT|2OF|D42')),axis=1)\n",
        "df1deg = df1deg.iloc[:-1,:]\n",
        "df1deg['L:BPM5OF'] = df1deg['L:BPM5OF'].apply(lambda x : x if x > 0 else x +360)\n",
        "df1deg['L:D53BF'] = df1deg['L:D53BF'].apply(lambda x : x if x > 0 else x +360)\n",
        "df1deg['L:D33BF'] = df1deg['L:D33BF'].apply(lambda x : x if x > 0 else x +360)\n",
        "df1deg['L:D41BF'] = df1deg['L:D41BF'].apply(lambda x : x if x > 0 else x +360)\n",
        "df1deg = df1deg.loc[(df1deg['L:D72BF']<-65) & (df1deg['L:BPM4IF']>95) & (df1deg['L:D23BF']<100)]\n",
        "\n",
        "ref1deg =fetch_reference(df1deg,cavs[1:],[np.median(df1deg[c]) for c in cavs[1:]],[0.99,0.99])\n",
        "ddf1deg = df1deg-ref1deg\n",
        "\n",
        "#ref1deg"
      ]
    },
    {
      "cell_type": "code",
      "execution_count": 51,
      "metadata": {
        "id": "fl4rLGVPtXLe",
        "colab": {
          "base_uri": "https://localhost:8080/",
          "height": 408
        },
        "outputId": "46f80ee9-867a-4083-bc4e-c459e0341d07"
      },
      "outputs": [
        {
          "output_type": "error",
          "ename": "ValueError",
          "evalue": "Key backend: 'module://ipympl.backend_nbagg' is not a valid value for backend; supported values are ['gtk3agg', 'gtk3cairo', 'gtk4agg', 'gtk4cairo', 'macosx', 'nbagg', 'notebook', 'qtagg', 'qtcairo', 'qt5agg', 'qt5cairo', 'tkagg', 'tkcairo', 'webagg', 'wx', 'wxagg', 'wxcairo', 'agg', 'cairo', 'pdf', 'pgf', 'ps', 'svg', 'template', 'inline']",
          "traceback": [
            "\u001b[0;31m---------------------------------------------------------------------------\u001b[0m",
            "\u001b[0;31mValueError\u001b[0m                                Traceback (most recent call last)",
            "\u001b[0;32m<ipython-input-51-49e2b1dc8f0f>\u001b[0m in \u001b[0;36m<cell line: 0>\u001b[0;34m()\u001b[0m\n\u001b[0;32m----> 1\u001b[0;31m \u001b[0mget_ipython\u001b[0m\u001b[0;34m(\u001b[0m\u001b[0;34m)\u001b[0m\u001b[0;34m.\u001b[0m\u001b[0mrun_line_magic\u001b[0m\u001b[0;34m(\u001b[0m\u001b[0;34m'matplotlib'\u001b[0m\u001b[0;34m,\u001b[0m \u001b[0;34m'widget'\u001b[0m\u001b[0;34m)\u001b[0m\u001b[0;34m\u001b[0m\u001b[0;34m\u001b[0m\u001b[0m\n\u001b[0m\u001b[1;32m      2\u001b[0m plt.rcParams.update({'font.size': 16, 'font.family': \"Times New Roman\",\n\u001b[1;32m      3\u001b[0m                      \u001b[0;34m'mathtext.fontset'\u001b[0m\u001b[0;34m:\u001b[0m \u001b[0;34m'cm'\u001b[0m\u001b[0;34m,\u001b[0m \u001b[0;34m'savefig.format'\u001b[0m \u001b[0;34m:\u001b[0m \u001b[0;34m'pdf'\u001b[0m\u001b[0;34m,\u001b[0m\u001b[0;34m\u001b[0m\u001b[0;34m\u001b[0m\u001b[0m\n\u001b[1;32m      4\u001b[0m                     \u001b[0;34m'axes.labelsize'\u001b[0m\u001b[0;34m:\u001b[0m \u001b[0;34m'x-large'\u001b[0m\u001b[0;34m,\u001b[0m\u001b[0;34m\u001b[0m\u001b[0;34m\u001b[0m\u001b[0m\n\u001b[1;32m      5\u001b[0m                     \u001b[0;34m'axes.titlesize'\u001b[0m\u001b[0;34m:\u001b[0m\u001b[0;34m'x-large'\u001b[0m\u001b[0;34m,\u001b[0m\u001b[0;34m\u001b[0m\u001b[0;34m\u001b[0m\u001b[0m\n",
            "\u001b[0;32m/usr/local/lib/python3.11/dist-packages/IPython/core/interactiveshell.py\u001b[0m in \u001b[0;36mrun_line_magic\u001b[0;34m(self, magic_name, line, _stack_depth)\u001b[0m\n\u001b[1;32m   2416\u001b[0m                 \u001b[0mkwargs\u001b[0m\u001b[0;34m[\u001b[0m\u001b[0;34m'local_ns'\u001b[0m\u001b[0;34m]\u001b[0m \u001b[0;34m=\u001b[0m \u001b[0mself\u001b[0m\u001b[0;34m.\u001b[0m\u001b[0mget_local_scope\u001b[0m\u001b[0;34m(\u001b[0m\u001b[0mstack_depth\u001b[0m\u001b[0;34m)\u001b[0m\u001b[0;34m\u001b[0m\u001b[0;34m\u001b[0m\u001b[0m\n\u001b[1;32m   2417\u001b[0m             \u001b[0;32mwith\u001b[0m \u001b[0mself\u001b[0m\u001b[0;34m.\u001b[0m\u001b[0mbuiltin_trap\u001b[0m\u001b[0;34m:\u001b[0m\u001b[0;34m\u001b[0m\u001b[0;34m\u001b[0m\u001b[0m\n\u001b[0;32m-> 2418\u001b[0;31m                 \u001b[0mresult\u001b[0m \u001b[0;34m=\u001b[0m \u001b[0mfn\u001b[0m\u001b[0;34m(\u001b[0m\u001b[0;34m*\u001b[0m\u001b[0margs\u001b[0m\u001b[0;34m,\u001b[0m \u001b[0;34m**\u001b[0m\u001b[0mkwargs\u001b[0m\u001b[0;34m)\u001b[0m\u001b[0;34m\u001b[0m\u001b[0;34m\u001b[0m\u001b[0m\n\u001b[0m\u001b[1;32m   2419\u001b[0m             \u001b[0;32mreturn\u001b[0m \u001b[0mresult\u001b[0m\u001b[0;34m\u001b[0m\u001b[0;34m\u001b[0m\u001b[0m\n\u001b[1;32m   2420\u001b[0m \u001b[0;34m\u001b[0m\u001b[0m\n",
            "\u001b[0;32m<decorator-gen-101>\u001b[0m in \u001b[0;36mmatplotlib\u001b[0;34m(self, line)\u001b[0m\n",
            "\u001b[0;32m/usr/local/lib/python3.11/dist-packages/IPython/core/magic.py\u001b[0m in \u001b[0;36m<lambda>\u001b[0;34m(f, *a, **k)\u001b[0m\n\u001b[1;32m    185\u001b[0m     \u001b[0;31m# but it's overkill for just that one bit of state.\u001b[0m\u001b[0;34m\u001b[0m\u001b[0;34m\u001b[0m\u001b[0m\n\u001b[1;32m    186\u001b[0m     \u001b[0;32mdef\u001b[0m \u001b[0mmagic_deco\u001b[0m\u001b[0;34m(\u001b[0m\u001b[0marg\u001b[0m\u001b[0;34m)\u001b[0m\u001b[0;34m:\u001b[0m\u001b[0;34m\u001b[0m\u001b[0;34m\u001b[0m\u001b[0m\n\u001b[0;32m--> 187\u001b[0;31m         \u001b[0mcall\u001b[0m \u001b[0;34m=\u001b[0m \u001b[0;32mlambda\u001b[0m \u001b[0mf\u001b[0m\u001b[0;34m,\u001b[0m \u001b[0;34m*\u001b[0m\u001b[0ma\u001b[0m\u001b[0;34m,\u001b[0m \u001b[0;34m**\u001b[0m\u001b[0mk\u001b[0m\u001b[0;34m:\u001b[0m \u001b[0mf\u001b[0m\u001b[0;34m(\u001b[0m\u001b[0;34m*\u001b[0m\u001b[0ma\u001b[0m\u001b[0;34m,\u001b[0m \u001b[0;34m**\u001b[0m\u001b[0mk\u001b[0m\u001b[0;34m)\u001b[0m\u001b[0;34m\u001b[0m\u001b[0;34m\u001b[0m\u001b[0m\n\u001b[0m\u001b[1;32m    188\u001b[0m \u001b[0;34m\u001b[0m\u001b[0m\n\u001b[1;32m    189\u001b[0m         \u001b[0;32mif\u001b[0m \u001b[0mcallable\u001b[0m\u001b[0;34m(\u001b[0m\u001b[0marg\u001b[0m\u001b[0;34m)\u001b[0m\u001b[0;34m:\u001b[0m\u001b[0;34m\u001b[0m\u001b[0;34m\u001b[0m\u001b[0m\n",
            "\u001b[0;32m/usr/local/lib/python3.11/dist-packages/IPython/core/magics/pylab.py\u001b[0m in \u001b[0;36mmatplotlib\u001b[0;34m(self, line)\u001b[0m\n\u001b[1;32m     97\u001b[0m             \u001b[0mprint\u001b[0m\u001b[0;34m(\u001b[0m\u001b[0;34m\"Available matplotlib backends: %s\"\u001b[0m \u001b[0;34m%\u001b[0m \u001b[0mbackends_list\u001b[0m\u001b[0;34m)\u001b[0m\u001b[0;34m\u001b[0m\u001b[0;34m\u001b[0m\u001b[0m\n\u001b[1;32m     98\u001b[0m         \u001b[0;32melse\u001b[0m\u001b[0;34m:\u001b[0m\u001b[0;34m\u001b[0m\u001b[0;34m\u001b[0m\u001b[0m\n\u001b[0;32m---> 99\u001b[0;31m             \u001b[0mgui\u001b[0m\u001b[0;34m,\u001b[0m \u001b[0mbackend\u001b[0m \u001b[0;34m=\u001b[0m \u001b[0mself\u001b[0m\u001b[0;34m.\u001b[0m\u001b[0mshell\u001b[0m\u001b[0;34m.\u001b[0m\u001b[0menable_matplotlib\u001b[0m\u001b[0;34m(\u001b[0m\u001b[0margs\u001b[0m\u001b[0;34m.\u001b[0m\u001b[0mgui\u001b[0m\u001b[0;34m.\u001b[0m\u001b[0mlower\u001b[0m\u001b[0;34m(\u001b[0m\u001b[0;34m)\u001b[0m \u001b[0;32mif\u001b[0m \u001b[0misinstance\u001b[0m\u001b[0;34m(\u001b[0m\u001b[0margs\u001b[0m\u001b[0;34m.\u001b[0m\u001b[0mgui\u001b[0m\u001b[0;34m,\u001b[0m \u001b[0mstr\u001b[0m\u001b[0;34m)\u001b[0m \u001b[0;32melse\u001b[0m \u001b[0margs\u001b[0m\u001b[0;34m.\u001b[0m\u001b[0mgui\u001b[0m\u001b[0;34m)\u001b[0m\u001b[0;34m\u001b[0m\u001b[0;34m\u001b[0m\u001b[0m\n\u001b[0m\u001b[1;32m    100\u001b[0m             \u001b[0mself\u001b[0m\u001b[0;34m.\u001b[0m\u001b[0m_show_matplotlib_backend\u001b[0m\u001b[0;34m(\u001b[0m\u001b[0margs\u001b[0m\u001b[0;34m.\u001b[0m\u001b[0mgui\u001b[0m\u001b[0;34m,\u001b[0m \u001b[0mbackend\u001b[0m\u001b[0;34m)\u001b[0m\u001b[0;34m\u001b[0m\u001b[0;34m\u001b[0m\u001b[0m\n\u001b[1;32m    101\u001b[0m \u001b[0;34m\u001b[0m\u001b[0m\n",
            "\u001b[0;32m/usr/local/lib/python3.11/dist-packages/IPython/core/interactiveshell.py\u001b[0m in \u001b[0;36menable_matplotlib\u001b[0;34m(self, gui)\u001b[0m\n\u001b[1;32m   3645\u001b[0m                 \u001b[0mgui\u001b[0m\u001b[0;34m,\u001b[0m \u001b[0mbackend\u001b[0m \u001b[0;34m=\u001b[0m \u001b[0mpt\u001b[0m\u001b[0;34m.\u001b[0m\u001b[0mfind_gui_and_backend\u001b[0m\u001b[0;34m(\u001b[0m\u001b[0mself\u001b[0m\u001b[0;34m.\u001b[0m\u001b[0mpylab_gui_select\u001b[0m\u001b[0;34m)\u001b[0m\u001b[0;34m\u001b[0m\u001b[0;34m\u001b[0m\u001b[0m\n\u001b[1;32m   3646\u001b[0m \u001b[0;34m\u001b[0m\u001b[0m\n\u001b[0;32m-> 3647\u001b[0;31m         \u001b[0mpt\u001b[0m\u001b[0;34m.\u001b[0m\u001b[0mactivate_matplotlib\u001b[0m\u001b[0;34m(\u001b[0m\u001b[0mbackend\u001b[0m\u001b[0;34m)\u001b[0m\u001b[0;34m\u001b[0m\u001b[0;34m\u001b[0m\u001b[0m\n\u001b[0m\u001b[1;32m   3648\u001b[0m         \u001b[0mconfigure_inline_support\u001b[0m\u001b[0;34m(\u001b[0m\u001b[0mself\u001b[0m\u001b[0;34m,\u001b[0m \u001b[0mbackend\u001b[0m\u001b[0;34m)\u001b[0m\u001b[0;34m\u001b[0m\u001b[0;34m\u001b[0m\u001b[0m\n\u001b[1;32m   3649\u001b[0m \u001b[0;34m\u001b[0m\u001b[0m\n",
            "\u001b[0;32m/usr/local/lib/python3.11/dist-packages/IPython/core/pylabtools.py\u001b[0m in \u001b[0;36mactivate_matplotlib\u001b[0;34m(backend)\u001b[0m\n\u001b[1;32m    350\u001b[0m     \u001b[0;31m# the rcParam to update. This needs to be set *before* the module\u001b[0m\u001b[0;34m\u001b[0m\u001b[0;34m\u001b[0m\u001b[0m\n\u001b[1;32m    351\u001b[0m     \u001b[0;31m# magic of switch_backend().\u001b[0m\u001b[0;34m\u001b[0m\u001b[0;34m\u001b[0m\u001b[0m\n\u001b[0;32m--> 352\u001b[0;31m     \u001b[0mmatplotlib\u001b[0m\u001b[0;34m.\u001b[0m\u001b[0mrcParams\u001b[0m\u001b[0;34m[\u001b[0m\u001b[0;34m'backend'\u001b[0m\u001b[0;34m]\u001b[0m \u001b[0;34m=\u001b[0m \u001b[0mbackend\u001b[0m\u001b[0;34m\u001b[0m\u001b[0;34m\u001b[0m\u001b[0m\n\u001b[0m\u001b[1;32m    353\u001b[0m \u001b[0;34m\u001b[0m\u001b[0m\n\u001b[1;32m    354\u001b[0m     \u001b[0;31m# Due to circular imports, pyplot may be only partially initialised\u001b[0m\u001b[0;34m\u001b[0m\u001b[0;34m\u001b[0m\u001b[0m\n",
            "\u001b[0;32m/usr/local/lib/python3.11/dist-packages/matplotlib/__init__.py\u001b[0m in \u001b[0;36m__setitem__\u001b[0;34m(self, key, val)\u001b[0m\n\u001b[1;32m    769\u001b[0m                 \u001b[0mcval\u001b[0m \u001b[0;34m=\u001b[0m \u001b[0mself\u001b[0m\u001b[0;34m.\u001b[0m\u001b[0mvalidate\u001b[0m\u001b[0;34m[\u001b[0m\u001b[0mkey\u001b[0m\u001b[0;34m]\u001b[0m\u001b[0;34m(\u001b[0m\u001b[0mval\u001b[0m\u001b[0;34m)\u001b[0m\u001b[0;34m\u001b[0m\u001b[0;34m\u001b[0m\u001b[0m\n\u001b[1;32m    770\u001b[0m             \u001b[0;32mexcept\u001b[0m \u001b[0mValueError\u001b[0m \u001b[0;32mas\u001b[0m \u001b[0mve\u001b[0m\u001b[0;34m:\u001b[0m\u001b[0;34m\u001b[0m\u001b[0;34m\u001b[0m\u001b[0m\n\u001b[0;32m--> 771\u001b[0;31m                 \u001b[0;32mraise\u001b[0m \u001b[0mValueError\u001b[0m\u001b[0;34m(\u001b[0m\u001b[0;34mf\"Key {key}: {ve}\"\u001b[0m\u001b[0;34m)\u001b[0m \u001b[0;32mfrom\u001b[0m \u001b[0;32mNone\u001b[0m\u001b[0;34m\u001b[0m\u001b[0;34m\u001b[0m\u001b[0m\n\u001b[0m\u001b[1;32m    772\u001b[0m             \u001b[0mself\u001b[0m\u001b[0;34m.\u001b[0m\u001b[0m_set\u001b[0m\u001b[0;34m(\u001b[0m\u001b[0mkey\u001b[0m\u001b[0;34m,\u001b[0m \u001b[0mcval\u001b[0m\u001b[0;34m)\u001b[0m\u001b[0;34m\u001b[0m\u001b[0;34m\u001b[0m\u001b[0m\n\u001b[1;32m    773\u001b[0m         \u001b[0;32mexcept\u001b[0m \u001b[0mKeyError\u001b[0m \u001b[0;32mas\u001b[0m \u001b[0merr\u001b[0m\u001b[0;34m:\u001b[0m\u001b[0;34m\u001b[0m\u001b[0;34m\u001b[0m\u001b[0m\n",
            "\u001b[0;31mValueError\u001b[0m: Key backend: 'module://ipympl.backend_nbagg' is not a valid value for backend; supported values are ['gtk3agg', 'gtk3cairo', 'gtk4agg', 'gtk4cairo', 'macosx', 'nbagg', 'notebook', 'qtagg', 'qtcairo', 'qt5agg', 'qt5cairo', 'tkagg', 'tkcairo', 'webagg', 'wx', 'wxagg', 'wxcairo', 'agg', 'cairo', 'pdf', 'pgf', 'ps', 'svg', 'template', 'inline']"
          ]
        }
      ],
      "source": [
        "%matplotlib widget\n",
        "plt.rcParams.update({'font.size': 16, 'font.family': \"Times New Roman\",\n",
        "                     'mathtext.fontset': 'cm', 'savefig.format' : 'pdf',\n",
        "                    'axes.labelsize': 'x-large',\n",
        "                    'axes.titlesize':'x-large',\n",
        "                    'xtick.labelsize':'large',\n",
        "                    'ytick.labelsize':'large',})\n",
        "\n",
        "#[plt.plot(ddf1deg.iloc[k,3:], label='$\\Delta\\phi_{DTL2}$=%2.1f'%(ddf1deg.iloc[k,1]), marker='',linestyle='-') for k in [0,11,121]];\n",
        "#fig = plt.figure()\n",
        "#ax = fig.add_subplot()\n",
        "#ax = fig.add_subplot(projection='3d')\n",
        "#ax.scatter(ddf1deg['L:V2QSET'],ddf1deg['L:BPM3OF'],ddf1deg['L:V5QSET'])\n",
        "#ax.scatter(ddf1deg['L:V2QSET'],ddf1deg['L:BPM5OF'],ddf1deg['L:V5QSET'])\n",
        "for col in list(ddf1deg.columns)[2:]:\n",
        "    plt.cla()\n",
        "    plt.plot(ddf1deg[col],label='%s'%col);\n",
        "    plt.legend(loc=\"upper right\",fontsize = 'x-large',ncol=1);\n",
        "    plt.subplots_adjust(bottom=0.15)\n",
        "    plt.subplots_adjust(top=0.95)\n",
        "    plt.subplots_adjust(left=0.15)\n",
        "    plt.subplots_adjust(right=0.99)\n",
        "    plt.grid()\n",
        "    #plt.xlabel(\"\")\n",
        "    plt.ylabel(\"$\\Delta \\phi$ (deg)\")\n",
        "    plt.savefig('bpm_data_%s.png'%col[2:])\n",
        "#plt.xticks(rotation = 90);"
      ]
    },
    {
      "cell_type": "code",
      "execution_count": null,
      "metadata": {
        "id": "JiPUelRxtXLe"
      },
      "outputs": [],
      "source": [
        "%matplotlib inline\n",
        "plt.scatter(ddf1deg.iloc[:,0],ddf1deg.iloc[:,1])\n",
        "plt.xlabel(list(df1deg.columns)[0])\n",
        "plt.ylabel(list(df1deg.columns)[1])"
      ]
    },
    {
      "cell_type": "code",
      "execution_count": null,
      "metadata": {
        "id": "BEHQIxEItXLe"
      },
      "outputs": [],
      "source": [
        "%matplotlib widget\n",
        "df1degavg =df1deg.groupby(np.arange(len(df1deg))//10).mean()\n",
        "ll=[10,30,60,90,120,150,180,210,240,300,400,500,800,900,1100,1137]\n",
        "[plt.plot(dist_data[1:],ddf1deg.iloc[k,2:],label='$\\Delta(\\phi_2,\\phi_5)=(%.1f,%.1f)$'%(ddf1deg.iloc[k,0],ddf1deg.iloc[k,1]))for k in ll]\n",
        "#plt.xticks(rotation = 90);\n",
        "#plt.legend(loc=\"lower right\",fontsize = 'small',ncol=3,bbox_to_anchor=(1.,1))\n",
        "plt.legend(ncol=3,bbox_to_anchor=(0., .75, .95, .99),fontsize='small',loc='lower left',borderaxespad=0.)\n",
        "plt.ylabel('$\\Delta\\phi_{BPM}$ (deg)')\n",
        "plt.xlabel('Distance (m)')\n",
        "plt.grid()"
      ]
    },
    {
      "cell_type": "code",
      "execution_count": null,
      "metadata": {
        "id": "gPAMxn5ntXLe"
      },
      "outputs": [],
      "source": [
        "ddf1deg.shape[0]*0.8"
      ]
    },
    {
      "cell_type": "code",
      "execution_count": null,
      "metadata": {
        "id": "8fLpUF1rtXLf"
      },
      "outputs": [],
      "source": [
        "%matplotlib inline\n",
        "plt.plot(dfs[0]['L:V2QSET'])\n",
        "dff = dfs[0].loc[np.abs(dfs[0]['L:RFQPAH']-178.57)<1.]\n",
        "\n",
        "dff =dff.sort_index().reset_index(drop=True)\n",
        "dff.dropna(inplace=True)\n",
        "\n",
        "print(dff.shape)\n",
        "dff.head(10)\n",
        "#dff.to_csv('training_t2t5_oscillation.csv')\n",
        "\n",
        "dfff = dfs[0].loc[(np.abs(dfs[0]['L:V2QSET']+26.5)<0.5) & (np.abs(dfs[0]['L:V5QSET']+32.41)<0.3)]\n",
        "#dfff = dfs[0].loc[(np.abs(dfs[0]['L:V2QSET']-26.5)<0.3)]\n",
        "dfff =dfff.sort_index().reset_index(drop=True)\n",
        "dfff.dropna(inplace=True)\n",
        "print(dfff.shape)\n",
        "dfff.head(10)\n",
        "#dfff.to_csv('testing_upstream_oscillation.csv')\n"
      ]
    },
    {
      "cell_type": "code",
      "execution_count": null,
      "metadata": {
        "id": "KfottvT_tXLf"
      },
      "outputs": [],
      "source": [
        "bpm = list(dff.columns)[3:]\n",
        "res = dict(zip(bpm, dist_data))\n",
        "import json\n",
        "\n",
        "with open('sensor_positions.json', 'w') as fp:\n",
        "    json.dump(res, fp)\n",
        "\n",
        "baseline = dict(zip(cavs,meds[0]))\n",
        "print(baseline)\n",
        "with open('baseline_knobs.json', 'w') as fp:\n",
        "    json.dump(baseline, fp)"
      ]
    },
    {
      "cell_type": "markdown",
      "metadata": {
        "id": "9bfEOxFLtXLf"
      },
      "source": [
        "## Plot BPM phase oscillation"
      ]
    },
    {
      "cell_type": "code",
      "execution_count": null,
      "metadata": {
        "id": "tpWRNDWptXLf",
        "scrolled": true
      },
      "outputs": [],
      "source": [
        "ssdf = []\n",
        "for i in range(3):\n",
        "    cav = [c for c in cavs if c!=cavs[i]]\n",
        "    ssdf.append([fetch_slice(df,cav,[0.,0.],[0.3,0.3]) for df in ddfs])\n",
        "    #ssdf.append([fetch_slice(df,cav,[0.,0.],[0.9,0.9]) for df in ddfs])\n",
        "\n",
        "ssdf =[[df.sort_index().reset_index(drop=True) for df in s] for s in ssdf]\n",
        "ssdf = [[df.dropna() for df in s] for s in ssdf]\n",
        "\n",
        "ssdf[0][1].drop([99],inplace=True)\n",
        "\n",
        "print([[df.shape for df in s] for s in ssdf])\n",
        "\n",
        "ssdfmed= [[df.groupby(np.arange(len(df))//9).median() for df in s] for s in ssdf]\n",
        "#ssdfmed= [[df.groupby(np.arange(len(df))//10).mean() for df in s] for s in ssdf]\n",
        "print([[df.shape for df in s] for s in ssdfmed])"
      ]
    },
    {
      "cell_type": "code",
      "execution_count": null,
      "metadata": {
        "id": "0RppRgB2tXLf"
      },
      "outputs": [],
      "source": [
        "ssdf1 = []\n",
        "for i in range(2):\n",
        "    cav = [c for c in cavs[1:] if c!=cavs[i]]\n",
        "    ssdf1.append(fetch_slice(ddf1deg,cav,[0.],[0.9]))\n",
        "\n",
        "ssdf1 =[df.sort_index().reset_index(drop=True) for df in ssdf1]\n",
        "ssdf1 = [df.dropna() for df in ssdf1]\n",
        "\n",
        "ssdfmed1= [df.groupby(np.arange(len(df))//10).median() for df in ssdf1]\n",
        "ssdfmed1[1]"
      ]
    },
    {
      "cell_type": "code",
      "execution_count": null,
      "metadata": {
        "id": "yv1gfcjWtXLg",
        "scrolled": true
      },
      "outputs": [],
      "source": [
        "%matplotlib widget\n",
        "\n",
        "nplots = ssdfmed[0][0].shape[0]\n",
        "nrows = int(nplots/2) if nplots%2==0 else int(nplots/2)+1\n",
        "\n",
        "#devs = ['RFQPAH','V2QSET','V5QSET']\n",
        "devs = ['V2QSET','V5QSET']\n",
        "for i in range(2):\n",
        "    fig, axs = plt.subplots(nrows,2, figsize=(10,12), sharex=True, sharey=True)\n",
        "    for k in range(nplots):\n",
        "        axs[int(k%(nplots/2))][int(k/(nplots/2))].plot(dist_data,ssdfmed[i][0].iloc[k,2:], label='%s%.1f'%(devs[i],ssdfmed[i][0].iloc[k,0]), marker='',linestyle='-')\n",
        "        #axs[int(k%(nplots/2))][int(k/(nplots/2))].plot(dist_data,ssdfmed[i][1].iloc[k,2:], label='%s%.1f'%(devs[i],ssdfmed[i][1].iloc[k,2]), marker='o',linestyle='-')\n",
        "\n",
        "        axs[int(k%(nplots/2))][int(k*2/(nplots))].legend(loc='upper right', fancybox=True, fontsize='large')\n",
        "        axs[int(k%(nplots/2))][int(k*2/(nplots))].xaxis.set_tick_params(direction='in', which='major')\n",
        "        axs[int(k%(nplots/2))][int(k*2/(nplots))].grid(True)\n",
        "        #axs[int(k%(nplots/2))][int(k*2/(nplots))].set_ylim(-4.,5)\n",
        "        if int(k%(nplots/2))==nrows-1:\n",
        "            axs[int(k%(nplots/2))][int(k/(nplots/2))].set(xlabel='Distance along linac (m)')\n",
        "        elif int(k/(nplots/2))%2==0:\n",
        "            axs[int(k%(nplots/2))][int(k/(nplots/2))].set(ylabel='$\\Delta \\phi_{BPM}$ (deg)')\n",
        "\n",
        "    plt.subplots_adjust(wspace=0, hspace=0)\n",
        "    plt.subplots_adjust(bottom=0.05)\n",
        "    plt.subplots_adjust(top=0.95)\n",
        "    plt.subplots_adjust(left=0.06)\n",
        "    plt.subplots_adjust(right=0.98)"
      ]
    },
    {
      "cell_type": "code",
      "execution_count": null,
      "metadata": {
        "collapsed": true,
        "id": "sDm-lK2ctXLh",
        "jupyter": {
          "outputs_hidden": true
        }
      },
      "outputs": [],
      "source": [
        "ssdfmed1[1]"
      ]
    },
    {
      "cell_type": "code",
      "execution_count": null,
      "metadata": {
        "id": "gpc6E1YntXLh"
      },
      "outputs": [],
      "source": [
        "%matplotlib widget\n",
        "plt.rcParams.update({'font.size': 12})\n",
        "[plt.plot(ssdfmed1[0].iloc[k,2:], label='DTL5 $\\Delta\\phi=$%2.1f'%(ssdfmed1[0].iloc[k,1]), marker='',linestyle='-') for k in range(11) ]\n",
        "#[plt.plot(ssdfmed1[1].iloc[k,2:], label='DTL2 $\\Delta\\phi=$%2.1f'%(ssdfmed1[1].iloc[k,0]), marker='',linestyle='-') for k in range(11) ]\n",
        "#plt.plot(ssdfmed1[0].iloc[10,2:], label='DTL5 $\\Delta\\phi=$%2.1f'%(ssdfmed1[0].iloc[10,1]), marker='',linestyle='-')\n",
        "#plt.plot(ssdfmed1[1].iloc[10,2:], label='DTL2 $\\Delta\\phi=$%2.1f'%(ssdfmed1[1].iloc[10,0]), marker='',linestyle='-')\n",
        "\n",
        "plt.grid()#\n",
        "plt.legend(loc=\"upper right\",fontsize = 'large',ncol=3)\n",
        "#plt.xlabel(\"Distance along Linac (m)\")\n",
        "plt.ylabel(\"$\\Delta \\phi$ (deg)\")\n",
        "plt.xticks(rotation = 90);\n",
        "plt.subplots_adjust(wspace=0, hspace=0)\n",
        "plt.subplots_adjust(bottom=0.25)\n",
        "plt.subplots_adjust(top=0.95)\n",
        "plt.subplots_adjust(left=0.16)\n",
        "plt.subplots_adjust(right=0.98)"
      ]
    },
    {
      "cell_type": "markdown",
      "metadata": {
        "id": "yA_UEvQ4tXLh"
      },
      "source": [
        "## 2-phase model: RFQ phase is fixed"
      ]
    },
    {
      "cell_type": "code",
      "execution_count": null,
      "metadata": {
        "id": "6vcNvdButXLh"
      },
      "outputs": [],
      "source": [
        "rfqdf = []\n",
        "for i in range(11):\n",
        "    rfqdf.append(fetch_slice(ddfs[0],['L:RFQPAH'],[-20+i*4],[1.]))\n",
        "\n",
        "rfqdf =[df.sort_index().reset_index(drop=True) for df in rfqdf]\n",
        "rfqdf = [df.dropna() for df in rfqdf]\n",
        "\n",
        "#rfqdfmed= [[df.groupby(np.arange(len(df))//9).median() for df in s] for s in ssdf]\n",
        "rfqdfmed= [df.groupby(np.arange(len(df))//9).mean() for df in rfqdf]"
      ]
    },
    {
      "cell_type": "code",
      "execution_count": null,
      "metadata": {
        "id": "V4wBlT1KtXLh"
      },
      "outputs": [],
      "source": [
        "test1 = rfqdf[5].iloc[:523,:].groupby(np.arange(523)//9).mean()\n",
        "test2 = rfqdf[5].iloc[522:523+7,:].groupby(np.arange(8)//8).mean()\n",
        "#rfqdf[5].iloc[520:560,:3]\n",
        "#test2\n",
        "test3 = rfqdf[5].iloc[522:523+7,:].groupby(np.arange(8)//8).mean()\n",
        "rfqdfmed[5]"
      ]
    },
    {
      "cell_type": "code",
      "execution_count": null,
      "metadata": {
        "id": "C4pYEkpQtXLh"
      },
      "outputs": [],
      "source": [
        "#train_data3 = rfqdf[5].iloc[:,1:].sample(frac=0.8, random_state=11)\n",
        "#test_data3 = rfqdf[5].iloc[:,1:].drop(train_data3.index)\n",
        "\n",
        "train_data3 = ddf1deg.sample(frac=0.8, random_state=11)\n",
        "test_data3 = ddf1deg.drop(train_data3.index)\n",
        "\n",
        "train_ft3, train_lbl3 = fetch_features_labels(train_data3,['L:V2QSET','L:V5QSET'])\n",
        "test_ft3, test_lbl3 = fetch_features_labels(test_data3,['L:V2QSET','L:V5QSET'])\n",
        "\n",
        "normal3 = preprocessing.Normalization(axis=-1)\n",
        "normal3.adapt(np.array(train_ft3))"
      ]
    },
    {
      "cell_type": "code",
      "execution_count": null,
      "metadata": {
        "id": "_lfauePUtXLn"
      },
      "outputs": [],
      "source": [
        "%%time\n",
        "\n",
        "init_lr = 1e-3\n",
        "\n",
        "model_2ph = build_and_compile_model_len(normal3, initial_lr, train_lbl3.shape[1])\n",
        "model_2ph.summary()\n",
        "history_2ph = train_model(model_2ph,train_ft3,train_lbl3,600,lr_time_based_decay)"
      ]
    },
    {
      "cell_type": "code",
      "execution_count": null,
      "metadata": {
        "id": "BCvWjV0rtXLn"
      },
      "outputs": [],
      "source": [
        "%matplotlib widget\n",
        "plot_loss(history_2ph)"
      ]
    },
    {
      "cell_type": "code",
      "execution_count": null,
      "metadata": {
        "execution": {
          "iopub.execute_input": "2021-06-19T02:12:21.708548Z",
          "iopub.status.busy": "2021-06-19T02:12:21.702446Z",
          "iopub.status.idle": "2021-06-19T02:12:22.384583Z",
          "shell.execute_reply": "2021-06-19T02:12:22.384085Z"
        },
        "id": "4-WwLlmfT-mb"
      },
      "outputs": [],
      "source": [
        "#model_2ph.save('dnn_model_2ph_27042023')\n",
        "# in the future, to load a trained model:\n",
        "loaded_model_2ph = tf.keras.models.load_model('dnn_model_2ph_27042023')"
      ]
    },
    {
      "cell_type": "code",
      "execution_count": null,
      "metadata": {
        "id": "kBUzJBcctXLn"
      },
      "outputs": [],
      "source": [
        "loaded_model_2ph.evaluate(test_ft3, test_lbl3, verbose=1)\n",
        "testpred3 = loaded_model_2ph.predict(test_ft3)"
      ]
    },
    {
      "cell_type": "code",
      "execution_count": null,
      "metadata": {
        "id": "7YjvQPFXtXLn"
      },
      "outputs": [],
      "source": [
        "%matplotlib widget\n",
        "#plot_2dhist(testpred3,test_lbl3)\n",
        "plot_1derror(testpred3,test_lbl3)"
      ]
    },
    {
      "cell_type": "code",
      "execution_count": null,
      "metadata": {
        "id": "5OOm_D6TtXLn"
      },
      "outputs": [],
      "source": [
        "tt = [list(fetch_features_labels(df.iloc[:,1:],['L:V2QSET','L:V5QSET'])) for df in rfqdfmed]\n",
        "\n",
        "preds = [loaded_model_2ph.predict(t[0]) for t in tt ]"
      ]
    },
    {
      "cell_type": "code",
      "execution_count": null,
      "metadata": {
        "id": "rb4u9m68tXLo"
      },
      "outputs": [],
      "source": [
        "%matplotlib widget\n",
        "plot_2dscatter_many(preds,[t[1] for t in tt])\n",
        "#plot_2dhist(preds[5],tt[5][1])"
      ]
    },
    {
      "cell_type": "code",
      "execution_count": null,
      "metadata": {
        "id": "EB60jYKGtXLo"
      },
      "outputs": [],
      "source": [
        "%matplotlib widget\n",
        "#plot_1derror(preds[5],tt[5][1])\n",
        "plot_1derror_many(preds,[t[1] for t in tt])"
      ]
    },
    {
      "cell_type": "code",
      "execution_count": null,
      "metadata": {
        "id": "cl3jkpuvtXLo"
      },
      "outputs": [],
      "source": [
        "osc1 = [fetch_slice(df,['L:V2QSET','L:V5QSET'],[0,0],[0.2,0.2]) for df in rfqdf]\n",
        "osc1 = [o.mean().to_frame().transpose() for o in osc1]\n",
        "\n",
        "[print(osc.iloc[:,:5]) for osc in osc1]\n",
        "\n",
        "#[df.to_csv('osc_varyRFQ_fixT2T5_%d.csv'%i) for i,df in enumerate(osc1)]\n",
        "#rfqdfmed[5].to_csv('osc_fixRFQ_varyT2T5.csv')\n",
        "\n",
        "predicted = [loaded_model_2ph.predict(osc.iloc[:,3:]) for osc in osc1]\n",
        "print(predicted)\n",
        "osc2 = [fetch_slice(rfqdfmed[5],['L:V2QSET','L:V5QSET'],pr[0],[0.3,0.29]) for pr in predicted ]\n",
        "#[print(osc.iloc[:,:3], pr[0]) for (osc,pr) in zip(osc2,predicted)]"
      ]
    },
    {
      "cell_type": "code",
      "execution_count": null,
      "metadata": {
        "id": "tC9ELZ3rtXLo"
      },
      "outputs": [],
      "source": [
        "%matplotlib widget\n",
        "#plt.scatter(osc1[5].iloc[:,3:],osc2[5].iloc[:,3:])\n",
        "[plt.scatter(o1.mean()[9:],o2.mean()[9:], label='Data %d'%i) for i,(o1,o2) in enumerate(zip(osc1,osc2))]\n",
        "plt.plot([-11,11],[-11,11],color='k', linestyle = '-')\n",
        "plt.plot([-11,11],[-9,13],color='k', linestyle = '-.')\n",
        "plt.plot([-11,11],[-13,9],color='k', linestyle = '-.')\n",
        "plt.plot([-11,11],[-10,12],color='r', linestyle = '--')\n",
        "plt.plot([-11,11],[-12,10],color='r', linestyle = '--')\n",
        "plt.xlim(-3,3)\n",
        "plt.ylim(-3,3)\n",
        "plt.xlabel('Original oscillation')\n",
        "plt.ylabel('Predicted oscillation')\n",
        "plt.grid()"
      ]
    },
    {
      "cell_type": "code",
      "execution_count": null,
      "metadata": {
        "id": "rYHzbCV-tXLq"
      },
      "outputs": [],
      "source": [
        "%matplotlib widget\n",
        "plt.plot(dist_data[6:],osc1[1].mean()[8:], label = 'Original data 4')\n",
        "plt.plot(dist_data[6:],osc2[1].mean()[8:], label = 'Predicted data 4')\n",
        "plt.plot(dist_data[6:],osc1[10].mean()[8:], label = 'Original data 10')\n",
        "plt.plot(dist_data[6:],osc2[10].mean()[8:], label = 'Predicted data 10')\n",
        "plt.plot(dist_data[6:],osc1[0].mean()[8:], label = 'Original data 4')\n",
        "plt.plot(dist_data[6:],osc2[0].mean()[8:], label = 'Predicted data 4')\n",
        "#plt.xticks(rotation=90)\n",
        "plt.grid()\n",
        "plt.legend(loc='lower right')\n",
        "plt.xlabel('Distance along Linac (m)')\n",
        "plt.ylabel('$\\Delta \\phi_{BPM}$ (deg)')"
      ]
    },
    {
      "cell_type": "code",
      "execution_count": null,
      "metadata": {
        "id": "2cQTXkXctXLq"
      },
      "outputs": [],
      "source": [
        "# We interpolate the data to create larger number of grid points\n",
        "\n",
        "from scipy.interpolate import griddata\n",
        "\n",
        "file = './osc_fixRFQ_varyT2T5.csv' #this has T5 ref at -32.4\n",
        "#dfrd = pd.read_csv(file,sep=',')\n",
        "dfrd = rfqdfmed[5]\n",
        "\n",
        "\n",
        "NPX=61\n",
        "NPY=61\n",
        "\n",
        "X, Y = np.mgrid[dfrd['L:V5QSET'].min():dfrd['L:V5QSET'].max():NPY*1j,\n",
        "                dfrd['L:V2QSET'].min():dfrd['L:V2QSET'].max():NPX*1j]\n",
        "points = (Y.ravel(),X.ravel())\n",
        "bpms=dfrd.filter(regex=\"^(?!.*QSET|Unnamed).*\").columns\n",
        "if 'L:BPM2OF' in bpms:\n",
        "    bpms =bpms.drop('L:BPM2OF')\n",
        "print(bpms)\n",
        "\n",
        "\n",
        "dfnew=pd.DataFrame(zip(Y.ravel(),X.ravel()),columns=[\"L:V2QSET\",\"L:V5QSET\"])\n",
        "for bpm in bpms:\n",
        "    dfnew[bpm] = griddata((dfrd['L:V2QSET'],dfrd['L:V5QSET']), dfrd[bpm], points, method='linear')\n",
        "\n",
        "#print(dfnew)\n",
        "#print(df)"
      ]
    },
    {
      "cell_type": "code",
      "execution_count": null,
      "metadata": {
        "id": "Tc7gG-jNtXLq"
      },
      "outputs": [],
      "source": [
        "predicted[0][0] = [-1.885,0.4]\n",
        "predicted[8][0] = [1.0,-0.452]\n",
        "#predicted[-1][0] = [1.8,-0.494]\n",
        "osc3 = [fetch_slice(dfnew,['L:V2QSET','L:V5QSET'],pr[0],[0.058,0.035]) for pr in predicted ]\n",
        "[print(osc.iloc[:,:3], pr[0]) for (osc,pr) in zip(osc3,predicted)]\n",
        "#print(osc3)"
      ]
    },
    {
      "cell_type": "code",
      "execution_count": null,
      "metadata": {
        "id": "HZsmeCkGtXLr"
      },
      "outputs": [],
      "source": [
        "osctest=[]\n",
        "bestpred=[None]*len(predicted)\n",
        "#best fits:\n",
        "bestpred[0] = [-1.885,  0.652]# -20: -1.885  0.652\n",
        "bestpred[1] = [-1.125,  0.427]# -16: -1.125  0.427\n",
        "bestpred[2] = [-1.138,  0.362]# -12: -1.138  0.362\n",
        "bestpred[3] = [-0.855,  0.23]# -8: -0.855  0.23\n",
        "bestpred[4] = [-0.705,  0.166]# -4: -0.705  0.166\n",
        "bestpred[5] = predicted[5][0]\n",
        "bestpred[6] = predicted[6][0]\n",
        "bestpred[7] = predicted[7][0]\n",
        "bestpred[8] = [1.066,  -0.498]# 12:1.066 -0.498\n",
        "bestpred[9] = [1.551,  -0.50]# 16: 1.8 -0.5?\n",
        "bestpred[10] = [1.885,  -0.494]# 20: 1.8 -0.5?\n",
        "\n",
        "n = 7\n",
        "for i in range(n):\n",
        "    predi = [1.351+i*0.1,-0.50]\n",
        "    osctest.append(fetch_slice(dfnew,['L:V2QSET','L:V5QSET'],predi,[0.058,0.035]))\n",
        "\n",
        "#%matplotlib widget\n",
        "#fig, ax = plt.subplots()\n",
        "#ax.plot(dist_data[7:],osc1[9].mean()[9:], label = '$\\Delta\\phi_{RFQ}$',color='r')\n",
        "#ax.scatter(dist_data[7:],osc3[9].mean()[9:], label = 'predicted (deg)',color='k')\n",
        "#for i in range(n):\n",
        "#    ax.plot(dist_data[7:],osctest[i].mean()[9:], label = 'best (deg)')\n",
        "\n",
        "\n",
        "best = []\n",
        "for i in range(11):\n",
        "    best.append(fetch_slice(dfnew,['L:V2QSET','L:V5QSET'],bestpred[i],[0.058,0.035]))\n",
        "#ax.legend()"
      ]
    },
    {
      "cell_type": "code",
      "execution_count": null,
      "metadata": {
        "id": "zt94FmZbtXLr"
      },
      "outputs": [],
      "source": [
        "%matplotlib widget\n",
        "\n",
        "labels=np.arange(-20,21,4)\n",
        "#plt.scatter(osc1[5].iloc[:,3:],osc2[5].iloc[:,3:])\n",
        "osc1s = [osc1[0],osc1[1],osc1[2],osc1[3],osc1[8],osc1[9]]\n",
        "osc3s = [osc3[0],osc3[1],osc3[2],osc3[3],osc3[8],osc3[9]]\n",
        "labs = [labels[0],labels[1],labels[2],labels[3],labels[8],labels[9]]\n",
        "[plt.scatter(o1.mean()[9:],o2.mean()[9:], label='$\\Delta\\phi_{RFQ}=%d^{\\circ}$'%labs[i]) for i,(o1,o2) in enumerate(zip(osc1s,osc3s))]\n",
        "plt.plot([-11,11],[-11,11],color='k', linestyle = '-')\n",
        "plt.plot([-11,11],[-10,12],color='k', linestyle = '-.')\n",
        "plt.plot([-11,11],[-12,10],color='k', linestyle = '-.')\n",
        "plt.plot([-11,11],[-10.5,11.5],color='r', linestyle = '--')\n",
        "plt.plot([-11,11],[-11.5,10.5],color='r', linestyle = '--')\n",
        "plt.xlim(-2,2)\n",
        "plt.ylim(-2,2)\n",
        "plt.xlabel('$\\phi_{RFQ}$ varied $\\Delta\\phi$ (deg)')\n",
        "plt.ylabel('Predicted $\\Delta\\phi$ (deg)')\n",
        "plt.legend(ncol=3,bbox_to_anchor=(0., .95, .9, .02),loc='lower left',borderaxespad=0.)\n",
        "plt.grid()"
      ]
    },
    {
      "cell_type": "code",
      "execution_count": null,
      "metadata": {
        "id": "iWj22lqgtXLs"
      },
      "outputs": [],
      "source": [
        "%matplotlib widget\n",
        "labels=np.arange(-20,21,4)\n",
        "nplots=5\n",
        "fig, ax = plt.subplots(int(nplots),1, figsize=(9,3*int(nplots)),sharey=True)\n",
        "for i in range(nplots):\n",
        "    ax[i].plot(dist_data[7:],osc1[i].mean()[9:], label = '$\\Delta\\phi_{in}=%d^{\\circ}$'%labels[i])\n",
        "    ax[i].plot(dist_data[7:],osc3[i].mean()[9:], label = 'Predicted (T2,T5)')\n",
        "    #ax[i].plot(dist_data[7:],best[i+6].mean()[9:], label = 'Best match')\n",
        "    #ax[i].plot(dist_data[7:],np.subtract(osc3[i].mean()[9:],osc1[i].mean()[9:]), label = 'Residual (deg)')\n",
        "    ax[i].grid()\n",
        "    ax[i].legend(loc='upper right')\n",
        "    ax[i].set_xlabel('Distance (m)')\n",
        "    ax[i].set_ylabel('$\\Delta \\phi_{BPM}$ (deg)')\n",
        "\n",
        "fig.supxlabel('Distance along Linac (m)')\n",
        "#fig.supylabel('$\\Delta \\phi_{BPM}$ (deg)')\n",
        "fig.tight_layout()\n",
        "\n",
        "plt.subplots_adjust(bottom=0.11)\n",
        "plt.subplots_adjust(top=0.95)\n",
        "plt.subplots_adjust(left=0.1)\n",
        "plt.subplots_adjust(right=0.99)\n"
      ]
    },
    {
      "cell_type": "code",
      "execution_count": null,
      "metadata": {
        "id": "RiSq_M7AtXLs"
      },
      "outputs": [],
      "source": [
        "%matplotlib widget\n",
        "nplots=6\n",
        "fig, ax = plt.subplots(int(nplots),1, figsize=(9,3*int(nplots)),sharey=True)\n",
        "for i in range(nplots):\n",
        "    ax[i].plot(dist_data[7:],osc1[i+5].mean()[9:], label = '$\\Delta\\phi_{RFQ}=%d^{\\circ}$'%labels[i+5])\n",
        "    ax[i].plot(dist_data[7:],osc3[i+5].mean()[9:], label = 'Predicted (T2,T5)')\n",
        "    ax[i].grid()\n",
        "    ax[i].legend(loc='lower right')\n",
        "    ax[i].set_xlabel('Distance (m)')\n",
        "    ax[i].set_ylabel('$\\Delta \\phi_{BPM}$ (deg)')\n",
        "\n",
        "fig.supxlabel('Distance along Linac (m)')\n",
        "#fig.supylabel('$\\Delta \\phi_{BPM}$ (deg)')\n",
        "fig.tight_layout()\n",
        "\n",
        "plt.subplots_adjust(bottom=0.1)\n",
        "plt.subplots_adjust(top=0.95)\n",
        "plt.subplots_adjust(left=0.1)\n",
        "plt.subplots_adjust(right=0.99)"
      ]
    },
    {
      "cell_type": "code",
      "execution_count": null,
      "metadata": {
        "id": "VCzOcAjftXLs"
      },
      "outputs": [],
      "source": []
    },
    {
      "cell_type": "code",
      "execution_count": null,
      "metadata": {
        "id": "aksLPJj9tXLs"
      },
      "outputs": [],
      "source": []
    }
  ],
  "metadata": {
    "colab": {
      "provenance": [],
      "machine_shape": "hm",
      "gpuType": "A100",
      "include_colab_link": true
    },
    "kernelspec": {
      "display_name": "Python 3",
      "name": "python3"
    },
    "language_info": {
      "codemirror_mode": {
        "name": "ipython",
        "version": 3
      },
      "file_extension": ".py",
      "mimetype": "text/x-python",
      "name": "python",
      "nbconvert_exporter": "python",
      "pygments_lexer": "ipython3",
      "version": "3.12.9"
    },
    "accelerator": "GPU"
  },
  "nbformat": 4,
  "nbformat_minor": 0
}